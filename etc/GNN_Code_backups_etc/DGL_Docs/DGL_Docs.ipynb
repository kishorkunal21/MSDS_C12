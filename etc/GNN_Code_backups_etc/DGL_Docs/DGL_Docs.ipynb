{
 "cells": [
  {
   "attachments": {},
   "cell_type": "markdown",
   "id": "62725569",
   "metadata": {},
   "source": [
    "##### DGL DOCS"
   ]
  },
  {
   "cell_type": "code",
   "execution_count": 8,
   "id": "d8f11a58",
   "metadata": {},
   "outputs": [],
   "source": [
    "import dgl\n",
    "import numpy as np\n",
    "import pandas as pd\n",
    "import torch\n",
    "import torch.nn as nn\n",
    "import torch.nn.functional as fn\n",
    "\n",
    "import networkx as nx\n",
    "import matplotlib as plt\n",
    "%matplotlib inline"
   ]
  },
  {
   "cell_type": "code",
   "execution_count": 9,
   "id": "6af21fe3",
   "metadata": {},
   "outputs": [],
   "source": [
    "import tensorflow as tf"
   ]
  },
  {
   "cell_type": "code",
   "execution_count": 10,
   "id": "a73fce28",
   "metadata": {},
   "outputs": [
    {
     "data": {
      "text/plain": [
       "<tf.Tensor: shape=(), dtype=float32, numpy=242.33118>"
      ]
     },
     "execution_count": 10,
     "metadata": {},
     "output_type": "execute_result"
    }
   ],
   "source": [
    "tf.reduce_sum(tf.random.normal([1000, 1000]))"
   ]
  },
  {
   "cell_type": "code",
   "execution_count": 11,
   "id": "f71fd202",
   "metadata": {},
   "outputs": [
    {
     "data": {
      "text/plain": [
       "'4.25.1'"
      ]
     },
     "execution_count": 11,
     "metadata": {},
     "output_type": "execute_result"
    }
   ],
   "source": [
    "import transformers as tr\n",
    "tr.__version__ "
   ]
  },
  {
   "cell_type": "code",
   "execution_count": 12,
   "id": "1b21f84a",
   "metadata": {},
   "outputs": [],
   "source": [
    "u,v = torch.tensor([0,0,0,1]),torch.tensor([1,2,3,3])"
   ]
  },
  {
   "cell_type": "code",
   "execution_count": 13,
   "id": "23860b33",
   "metadata": {},
   "outputs": [
    {
     "data": {
      "text/plain": [
       "(tensor([0, 0, 0, 1]), tensor([1, 2, 3, 3]))"
      ]
     },
     "execution_count": 13,
     "metadata": {},
     "output_type": "execute_result"
    }
   ],
   "source": [
    "u,v"
   ]
  },
  {
   "cell_type": "code",
   "execution_count": 14,
   "id": "365a7b60",
   "metadata": {},
   "outputs": [
    {
     "data": {
      "text/plain": [
       "Graph(num_nodes=4, num_edges=4,\n",
       "      ndata_schemes={}\n",
       "      edata_schemes={})"
      ]
     },
     "execution_count": 14,
     "metadata": {},
     "output_type": "execute_result"
    }
   ],
   "source": [
    "g = dgl.graph((u,v))\n",
    "g"
   ]
  },
  {
   "cell_type": "code",
   "execution_count": 15,
   "id": "c6f886f0",
   "metadata": {},
   "outputs": [
    {
     "data": {
      "text/plain": [
       "tensor([0, 1, 2, 3])"
      ]
     },
     "execution_count": 15,
     "metadata": {},
     "output_type": "execute_result"
    }
   ],
   "source": [
    "g.nodes()"
   ]
  },
  {
   "cell_type": "code",
   "execution_count": 16,
   "id": "114eba81",
   "metadata": {},
   "outputs": [
    {
     "data": {
      "text/plain": [
       "(tensor([0, 0, 0, 1]), tensor([1, 2, 3, 3]))"
      ]
     },
     "execution_count": 16,
     "metadata": {},
     "output_type": "execute_result"
    }
   ],
   "source": [
    "g.edges()"
   ]
  },
  {
   "cell_type": "code",
   "execution_count": 17,
   "id": "2fbf0a64",
   "metadata": {},
   "outputs": [
    {
     "data": {
      "text/plain": [
       "(tensor([0, 0, 0, 1]), tensor([1, 2, 3, 3]), tensor([0, 1, 2, 3]))"
      ]
     },
     "execution_count": 17,
     "metadata": {},
     "output_type": "execute_result"
    }
   ],
   "source": [
    "g.edges(form='all')"
   ]
  },
  {
   "cell_type": "code",
   "execution_count": 18,
   "id": "10647bb6",
   "metadata": {},
   "outputs": [
    {
     "data": {
      "text/plain": [
       "Graph(num_nodes=4, num_edges=8,\n",
       "      ndata_schemes={}\n",
       "      edata_schemes={})"
      ]
     },
     "execution_count": 18,
     "metadata": {},
     "output_type": "execute_result"
    }
   ],
   "source": [
    "dgl.to_bidirected(g)"
   ]
  },
  {
   "cell_type": "code",
   "execution_count": 19,
   "id": "9eee4905",
   "metadata": {
    "scrolled": true
   },
   "outputs": [
    {
     "data": {
      "text/plain": [
       "Graph(num_nodes=4, num_edges=4,\n",
       "      ndata_schemes={}\n",
       "      edata_schemes={})"
      ]
     },
     "execution_count": 19,
     "metadata": {},
     "output_type": "execute_result"
    }
   ],
   "source": [
    "g"
   ]
  },
  {
   "cell_type": "code",
   "execution_count": 20,
   "id": "d3bf0976",
   "metadata": {},
   "outputs": [
    {
     "data": {
      "text/plain": [
       "Graph(num_nodes=6, num_edges=4,\n",
       "      ndata_schemes={}\n",
       "      edata_schemes={})"
      ]
     },
     "execution_count": 20,
     "metadata": {},
     "output_type": "execute_result"
    }
   ],
   "source": [
    "g = dgl.graph((torch.tensor([0,0,1,5]), torch.tensor([1,2,2,0])))\n",
    "g"
   ]
  },
  {
   "cell_type": "code",
   "execution_count": 21,
   "id": "e8d8e987",
   "metadata": {},
   "outputs": [
    {
     "data": {
      "text/plain": [
       "(6, 4)"
      ]
     },
     "execution_count": 21,
     "metadata": {},
     "output_type": "execute_result"
    }
   ],
   "source": [
    "g.num_nodes(),g.num_edges()"
   ]
  },
  {
   "cell_type": "code",
   "execution_count": 22,
   "id": "c0c2b6d0",
   "metadata": {},
   "outputs": [
    {
     "data": {
      "text/plain": [
       "<Figure size 640x480 with 0 Axes>"
      ]
     },
     "execution_count": 22,
     "metadata": {},
     "output_type": "execute_result"
    }
   ],
   "source": [
    "plt.figure.Figure()"
   ]
  },
  {
   "cell_type": "code",
   "execution_count": 23,
   "id": "ca782054",
   "metadata": {},
   "outputs": [
    {
     "data": {
      "image/png": "[encoded data removed]",
      "text/plain": [
       "<Figure size 640x480 with 1 Axes>"
      ]
     },
     "metadata": {},
     "output_type": "display_data"
    }
   ],
   "source": [
    "#plt.figure(figsize([5,7]))\n",
    "nx.draw(g.to_networkx(),)"
   ]
  },
  {
   "cell_type": "code",
   "execution_count": 24,
   "id": "ad7a0c6c",
   "metadata": {},
   "outputs": [
    {
     "ename": "SyntaxError",
     "evalue": "invalid syntax (1555257691.py, line 2)",
     "output_type": "error",
     "traceback": [
      "\u001b[0;36m  Cell \u001b[0;32mIn[24], line 2\u001b[0;36m\u001b[0m\n\u001b[0;31m    g.edata['x'] =\u001b[0m\n\u001b[0m                   ^\u001b[0m\n\u001b[0;31mSyntaxError\u001b[0m\u001b[0;31m:\u001b[0m invalid syntax\n"
     ]
    }
   ],
   "source": [
    "g.ndata['x'] =  torch.ones(g.num_nodes(), 3)\n",
    "g.edata['x'] = "
   ]
  },
  {
   "cell_type": "code",
   "execution_count": 25,
   "id": "22a88cbb",
   "metadata": {},
   "outputs": [],
   "source": [
    "edges = torch.tensor([2,5,3]),torch.tensor([3,5,0])"
   ]
  },
  {
   "cell_type": "code",
   "execution_count": 26,
   "id": "12b040e5",
   "metadata": {},
   "outputs": [
    {
     "data": {
      "text/plain": [
       "Graph(num_nodes=6, num_edges=3,\n",
       "      ndata_schemes={}\n",
       "      edata_schemes={})"
      ]
     },
     "execution_count": 26,
     "metadata": {},
     "output_type": "execute_result"
    }
   ],
   "source": [
    "g = dgl.graph(edges)\n",
    "g"
   ]
  },
  {
   "cell_type": "code",
   "execution_count": null,
   "id": "9ca00bd6",
   "metadata": {},
   "outputs": [],
   "source": []
  },
  {
   "cell_type": "code",
   "execution_count": null,
   "id": "0f627b79",
   "metadata": {},
   "outputs": [],
   "source": []
  },
  {
   "attachments": {},
   "cell_type": "markdown",
   "id": "fe4bef75",
   "metadata": {},
   "source": [
    "#### checking Tokenising methods in Transformers"
   ]
  },
  {
   "cell_type": "code",
   "execution_count": 27,
   "id": "f9b9b017",
   "metadata": {},
   "outputs": [],
   "source": [
    "import transformers\n",
    "import datasets"
   ]
  },
  {
   "cell_type": "code",
   "execution_count": 28,
   "id": "ab2fbb49",
   "metadata": {},
   "outputs": [
    {
     "data": {
      "text/plain": [
       "['acronym_identification',\n",
       " 'ade_corpus_v2',\n",
       " 'adversarial_qa',\n",
       " 'aeslc',\n",
       " 'afrikaans_ner_corpus']"
      ]
     },
     "execution_count": 28,
     "metadata": {},
     "output_type": "execute_result"
    }
   ],
   "source": [
    "ds_list = datasets.list_datasets()\n",
    "ds_list[:5]"
   ]
  },
  {
   "cell_type": "code",
   "execution_count": 29,
   "id": "7b1fbcb8",
   "metadata": {},
   "outputs": [
    {
     "name": "stderr",
     "output_type": "stream",
     "text": [
      "Found cached dataset squad (/Users/kunal21/.cache/huggingface/datasets/squad/plain_text/1.0.0/d6ec3ceb99ca480ce37cdd35555d6cb2511d223b9150cce08a837ef62ffea453)\n"
     ]
    },
    {
     "data": {
      "application/vnd.jupyter.widget-view+json": {
       "model_id": "4107d332b10244c488908139bee98a68",
       "version_major": 2,
       "version_minor": 0
      },
      "text/plain": [
       "  0%|          | 0/2 [00:00<?, ?it/s]"
      ]
     },
     "metadata": {},
     "output_type": "display_data"
    }
   ],
   "source": [
    "squad_data =  datasets.load_dataset('squad')"
   ]
  },
  {
   "cell_type": "code",
   "execution_count": 30,
   "id": "aeb41cb9",
   "metadata": {},
   "outputs": [
    {
     "data": {
      "text/plain": [
       "dict_keys(['train', 'validation'])"
      ]
     },
     "execution_count": 30,
     "metadata": {},
     "output_type": "execute_result"
    }
   ],
   "source": [
    "squad_data.keys()"
   ]
  },
  {
   "cell_type": "code",
   "execution_count": 31,
   "id": "02dc42e1",
   "metadata": {},
   "outputs": [
    {
     "data": {
      "text/plain": [
       "2"
      ]
     },
     "execution_count": 31,
     "metadata": {},
     "output_type": "execute_result"
    }
   ],
   "source": [
    "len(squad_data)"
   ]
  },
  {
   "cell_type": "code",
   "execution_count": 32,
   "id": "6851988a",
   "metadata": {},
   "outputs": [
    {
     "data": {
      "text/plain": [
       "87599"
      ]
     },
     "execution_count": 32,
     "metadata": {},
     "output_type": "execute_result"
    }
   ],
   "source": [
    "len(squad_data.get('train'))"
   ]
  },
  {
   "cell_type": "code",
   "execution_count": 33,
   "id": "f94f0141",
   "metadata": {},
   "outputs": [
    {
     "data": {
      "text/plain": [
       "{'id': Value(dtype='string', id=None),\n",
       " 'title': Value(dtype='string', id=None),\n",
       " 'context': Value(dtype='string', id=None),\n",
       " 'question': Value(dtype='string', id=None),\n",
       " 'answers': Sequence(feature={'text': Value(dtype='string', id=None), 'answer_start': Value(dtype='int32', id=None)}, length=-1, id=None)}"
      ]
     },
     "execution_count": 33,
     "metadata": {},
     "output_type": "execute_result"
    }
   ],
   "source": [
    "squad_data['train'].features"
   ]
  },
  {
   "cell_type": "code",
   "execution_count": 34,
   "id": "9b0afea1",
   "metadata": {},
   "outputs": [],
   "source": [
    "from transformers import BertTokenizer"
   ]
  },
  {
   "cell_type": "code",
   "execution_count": 35,
   "id": "19832c49",
   "metadata": {},
   "outputs": [],
   "source": [
    "tokenizer = BertTokenizer.from_pretrained('bert-base-uncased')"
   ]
  },
  {
   "cell_type": "code",
   "execution_count": 36,
   "id": "318de340",
   "metadata": {},
   "outputs": [
    {
     "data": {
      "text/plain": [
       "Dataset({\n",
       "    features: ['id', 'title', 'context', 'question', 'answers'],\n",
       "    num_rows: 87599\n",
       "})"
      ]
     },
     "execution_count": 36,
     "metadata": {},
     "output_type": "execute_result"
    }
   ],
   "source": [
    "squad_data['train']"
   ]
  },
  {
   "cell_type": "code",
   "execution_count": 37,
   "id": "1d9f45cc",
   "metadata": {},
   "outputs": [
    {
     "data": {
      "text/plain": [
       "{'input_ids': [101, 28919, 2389, 102], 'token_type_ids': [0, 0, 0, 0], 'attention_mask': [1, 1, 1, 1]}"
      ]
     },
     "execution_count": 37,
     "metadata": {},
     "output_type": "execute_result"
    }
   ],
   "source": [
    "tokenizer('kunal',max_length= 512, truncation=True)"
   ]
  },
  {
   "cell_type": "code",
   "execution_count": 38,
   "id": "85f391d7",
   "metadata": {},
   "outputs": [],
   "source": [
    "# squad_data['train'].map(\n",
    "#     lambda x: tokenizer(\n",
    "#         x['content'],x['context'],\n",
    "#         max_length=512,truncation=True\n",
    "#     ),batched=True, batch_size=32\n",
    "# )\n",
    "# LATER - to check with serialization = false"
   ]
  },
  {
   "cell_type": "code",
   "execution_count": null,
   "id": "b15f34a7",
   "metadata": {},
   "outputs": [],
   "source": []
  },
  {
   "attachments": {},
   "cell_type": "markdown",
   "id": "ef118bf4",
   "metadata": {},
   "source": [
    "### DGL"
   ]
  },
  {
   "cell_type": "code",
   "execution_count": 39,
   "id": "7fb31087",
   "metadata": {},
   "outputs": [],
   "source": [
    "import dgl.data as dgldatasets\n",
    "\n",
    "import dgl\n",
    "import torch\n",
    "import torch.nn as nn\n",
    "import torch.nn.functional as fn\n",
    "\n",
    "\n"
   ]
  },
  {
   "cell_type": "code",
   "execution_count": 40,
   "id": "67cd251d",
   "metadata": {},
   "outputs": [],
   "source": [
    "karateclub_data =  dgldatasets.KarateClubDataset()"
   ]
  },
  {
   "cell_type": "code",
   "execution_count": 41,
   "id": "5ab181c9",
   "metadata": {},
   "outputs": [
    {
     "data": {
      "text/plain": [
       "dgl.data.karate.KarateClubDataset"
      ]
     },
     "execution_count": 41,
     "metadata": {},
     "output_type": "execute_result"
    }
   ],
   "source": [
    "type(karateclub_data)"
   ]
  },
  {
   "cell_type": "code",
   "execution_count": 42,
   "id": "55f18b6e",
   "metadata": {},
   "outputs": [
    {
     "data": {
      "text/plain": [
       "Graph(num_nodes=34, num_edges=156,\n",
       "      ndata_schemes={'label': Scheme(shape=(), dtype=torch.int64)}\n",
       "      edata_schemes={})"
      ]
     },
     "execution_count": 42,
     "metadata": {},
     "output_type": "execute_result"
    }
   ],
   "source": [
    "karateclub_data[0]"
   ]
  },
  {
   "attachments": {},
   "cell_type": "markdown",
   "id": "2c336962",
   "metadata": {},
   "source": [
    "#### Node classificaiton task"
   ]
  },
  {
   "cell_type": "code",
   "execution_count": 43,
   "id": "10c6f4f6",
   "metadata": {},
   "outputs": [
    {
     "name": "stdout",
     "output_type": "stream",
     "text": [
      "  NumNodes: 2708\n",
      "  NumEdges: 10556\n",
      "  NumFeats: 1433\n",
      "  NumClasses: 7\n",
      "  NumTrainingSamples: 140\n",
      "  NumValidationSamples: 500\n",
      "  NumTestSamples: 1000\n",
      "Done loading data from cached files.\n"
     ]
    },
    {
     "data": {
      "text/plain": [
       "7"
      ]
     },
     "execution_count": 43,
     "metadata": {},
     "output_type": "execute_result"
    }
   ],
   "source": [
    "data =  dgldatasets.CoraGraphDataset()\n",
    "data.num_classes"
   ]
  },
  {
   "cell_type": "code",
   "execution_count": 44,
   "id": "704aed08",
   "metadata": {},
   "outputs": [
    {
     "data": {
      "text/plain": [
       "dgl.data.citation_graph.CoraGraphDataset"
      ]
     },
     "execution_count": 44,
     "metadata": {},
     "output_type": "execute_result"
    }
   ],
   "source": [
    "type(data)"
   ]
  },
  {
   "cell_type": "code",
   "execution_count": 45,
   "id": "f961ed9b",
   "metadata": {},
   "outputs": [
    {
     "data": {
      "text/plain": [
       "Graph(num_nodes=2708, num_edges=10556,\n",
       "      ndata_schemes={'feat': Scheme(shape=(1433,), dtype=torch.float32), 'label': Scheme(shape=(), dtype=torch.int64), 'val_mask': Scheme(shape=(), dtype=torch.bool), 'test_mask': Scheme(shape=(), dtype=torch.bool), 'train_mask': Scheme(shape=(), dtype=torch.bool)}\n",
       "      edata_schemes={})"
      ]
     },
     "execution_count": 45,
     "metadata": {},
     "output_type": "execute_result"
    }
   ],
   "source": [
    "g = data[0]\n",
    "g"
   ]
  },
  {
   "cell_type": "code",
   "execution_count": 46,
   "id": "fc98fec3",
   "metadata": {},
   "outputs": [
    {
     "data": {
      "text/plain": [
       "{'feat': tensor([[0., 0., 0.,  ..., 0., 0., 0.],\n",
       "        [0., 0., 0.,  ..., 0., 0., 0.],\n",
       "        [0., 0., 0.,  ..., 0., 0., 0.],\n",
       "        ...,\n",
       "        [0., 0., 0.,  ..., 0., 0., 0.],\n",
       "        [0., 0., 0.,  ..., 0., 0., 0.],\n",
       "        [0., 0., 0.,  ..., 0., 0., 0.]]), 'label': tensor([3, 4, 4,  ..., 3, 3, 3]), 'val_mask': tensor([False, False, False,  ..., False, False, False]), 'test_mask': tensor([False, False, False,  ...,  True,  True,  True]), 'train_mask': tensor([ True,  True,  True,  ..., False, False, False])}"
      ]
     },
     "execution_count": 46,
     "metadata": {},
     "output_type": "execute_result"
    }
   ],
   "source": [
    "g.ndata"
   ]
  },
  {
   "cell_type": "code",
   "execution_count": 47,
   "id": "060fadb6",
   "metadata": {},
   "outputs": [],
   "source": [
    "from dgl.nn import GraphConv"
   ]
  },
  {
   "cell_type": "code",
   "execution_count": 48,
   "id": "f3fba26b",
   "metadata": {},
   "outputs": [],
   "source": [
    "class GCN(nn.Module):\n",
    "    def __init__(self, in_feats, h_feats, num_classes):\n",
    "        super(GCN, self).__init__()\n",
    "        self.conv1 = GraphConv(in_feats,h_feats)\n",
    "        self.conv2 = GraphConv(h_feats, num_classes)\n",
    "\n",
    "    def forward(self, g, in_feat):\n",
    "        h = self.conv1(g, in_feat)\n",
    "        h = fn.relu(h)\n",
    "        h = self.conv2(g,h)\n",
    "        return h\n",
    "\n",
    "\n",
    "model = GCN(g.ndata['feat'].shape[1],16, data.num_classes)            \n",
    "\n"
   ]
  },
  {
   "cell_type": "code",
   "execution_count": 49,
   "id": "ef5ff400",
   "metadata": {},
   "outputs": [
    {
     "data": {
      "text/plain": [
       "tensor([3, 4, 4,  ..., 3, 3, 3])"
      ]
     },
     "execution_count": 49,
     "metadata": {},
     "output_type": "execute_result"
    }
   ],
   "source": [
    "g.ndata['label']"
   ]
  },
  {
   "cell_type": "code",
   "execution_count": 50,
   "id": "38ad6cae",
   "metadata": {},
   "outputs": [
    {
     "name": "stdout",
     "output_type": "stream",
     "text": [
      "In epoch 0, loss: 0.014, val acc: 0.000 (best 0.000), test acc: 0.000 (best 0.000)\n"
     ]
    },
    {
     "ename": "IndexError",
     "evalue": "tensors used as indices must be long, byte or bool tensors",
     "output_type": "error",
     "traceback": [
      "\u001b[0;31m---------------------------------------------------------------------------\u001b[0m",
      "\u001b[0;31mIndexError\u001b[0m                                Traceback (most recent call last)",
      "Cell \u001b[0;32mIn[50], line 47\u001b[0m\n\u001b[1;32m     43\u001b[0m             \u001b[39mprint\u001b[39m(\u001b[39m'\u001b[39m\u001b[39mIn epoch \u001b[39m\u001b[39m{}\u001b[39;00m\u001b[39m, loss: \u001b[39m\u001b[39m{:.3f}\u001b[39;00m\u001b[39m, val acc: \u001b[39m\u001b[39m{:.3f}\u001b[39;00m\u001b[39m (best \u001b[39m\u001b[39m{:.3f}\u001b[39;00m\u001b[39m), test acc: \u001b[39m\u001b[39m{:.3f}\u001b[39;00m\u001b[39m (best \u001b[39m\u001b[39m{:.3f}\u001b[39;00m\u001b[39m)\u001b[39m\u001b[39m'\u001b[39m\u001b[39m.\u001b[39mformat(\n\u001b[1;32m     44\u001b[0m                 e, loss, val_acc, best_val_acc, test_acc, best_test_acc))\n\u001b[1;32m     45\u001b[0m model \u001b[39m=\u001b[39m GCN(g\u001b[39m.\u001b[39mndata[\u001b[39m'\u001b[39m\u001b[39mfeat\u001b[39m\u001b[39m'\u001b[39m]\u001b[39m.\u001b[39mshape[\u001b[39m1\u001b[39m], \u001b[39m16\u001b[39m, data\u001b[39m.\u001b[39mnum_classes)\n\u001b[0;32m---> 47\u001b[0m train_model(g, model)\n",
      "Cell \u001b[0;32mIn[50], line 30\u001b[0m, in \u001b[0;36mtrain_model\u001b[0;34m(g, model)\u001b[0m\n\u001b[1;32m     27\u001b[0m \u001b[39m##copmute accuracy\u001b[39;00m\n\u001b[1;32m     29\u001b[0m train_acc \u001b[39m=\u001b[39m (pred[train_mask] \u001b[39m==\u001b[39m  labels[train_mask])\u001b[39m.\u001b[39mfloat()\u001b[39m.\u001b[39mmean()\n\u001b[0;32m---> 30\u001b[0m val_acc \u001b[39m=\u001b[39m (pred[val_acc] \u001b[39m==\u001b[39m  labels[val_acc])\u001b[39m.\u001b[39mfloat()\u001b[39m.\u001b[39mmean()\n\u001b[1;32m     31\u001b[0m test_acc \u001b[39m=\u001b[39m (pred[test_acc] \u001b[39m==\u001b[39m  labels[test_acc])\u001b[39m.\u001b[39mfloat()\u001b[39m.\u001b[39mmean()\n\u001b[1;32m     32\u001b[0m \u001b[39m# Save the best validation accuracy and the corresponding test accuracy.\u001b[39;00m\n",
      "\u001b[0;31mIndexError\u001b[0m: tensors used as indices must be long, byte or bool tensors"
     ]
    }
   ],
   "source": [
    "def train_model(g, model):\n",
    "    optimizer = torch.optim.Adam(model.parameters(),lr=0.01)\n",
    "    best_val_acc =0\n",
    "    best_test_acc = 0\n",
    "\n",
    "    val_acc =0\n",
    "    test_acc = 0\n",
    "\n",
    "\n",
    "    features = g.ndata['feat']\n",
    "    labels = g.ndata['label']\n",
    "    train_mask = g.ndata['train_mask']\n",
    "    val_mask = g.ndata['val_mask']\n",
    "    test_mask = g.ndata['test_mask']\n",
    "\n",
    "    for e in range(0,100):\n",
    "        #forward\n",
    "        logits = model(g, features)\n",
    "\n",
    "        #compute predictions\n",
    "        pred = logits.argmax(1)\n",
    "\n",
    "        ##compute loss\n",
    "\n",
    "        loss = fn.cross_entropy(logits[train_mask], logits[train_mask])\n",
    "\n",
    "        ##copmute accuracy\n",
    "\n",
    "        train_acc = (pred[train_mask] ==  labels[train_mask]).float().mean()\n",
    "        val_acc = (pred[val_acc] ==  labels[val_acc]).float().mean()\n",
    "        test_acc = (pred[test_acc] ==  labels[test_acc]).float().mean()\n",
    "        # Save the best validation accuracy and the corresponding test accuracy.\n",
    "        if best_val_acc < val_acc:\n",
    "            best_val_acc = val_acc\n",
    "            best_test_acc = test_acc\n",
    "\n",
    "        # Backward\n",
    "        optimizer.zero_grad()\n",
    "        loss.backward()\n",
    "        optimizer.step()\n",
    "\n",
    "        if e % 5 == 0:\n",
    "            print('In epoch {}, loss: {:.3f}, val acc: {:.3f} (best {:.3f}), test acc: {:.3f} (best {:.3f})'.format(\n",
    "                e, loss, val_acc, best_val_acc, test_acc, best_test_acc))\n",
    "model = GCN(g.ndata['feat'].shape[1], 16, data.num_classes)\n",
    "\n",
    "train_model(g, model)      "
   ]
  },
  {
   "cell_type": "code",
   "execution_count": 51,
   "id": "512b5fe4",
   "metadata": {},
   "outputs": [],
   "source": [
    "import networkx as nx\n",
    "import matplotlib.pyplot as plt\n",
    "%matplotlib inline"
   ]
  },
  {
   "cell_type": "code",
   "execution_count": 52,
   "id": "dfd8d28e",
   "metadata": {},
   "outputs": [],
   "source": [
    "def drawnx(g):\n",
    "    gx = dgl.to_networkx(g)\n",
    "    nx.draw(gx, with_labels=True)"
   ]
  },
  {
   "cell_type": "markdown",
   "id": "e0e6742a",
   "metadata": {},
   "source": [
    "### Nodes and edges"
   ]
  },
  {
   "cell_type": "code",
   "execution_count": 53,
   "id": "e613a556",
   "metadata": {},
   "outputs": [
    {
     "data": {
      "text/plain": [
       "Graph(num_nodes=4, num_edges=4,\n",
       "      ndata_schemes={}\n",
       "      edata_schemes={})"
      ]
     },
     "execution_count": 53,
     "metadata": {},
     "output_type": "execute_result"
    }
   ],
   "source": [
    "# edges 0->1, 0->2, 0->3, 1->3\n",
    "\n",
    "u,v = torch.tensor([0,0,0,1]),torch.tensor([1,2,3,3])\n",
    "g = dgl.graph((u,v))\n",
    "g   "
   ]
  },
  {
   "cell_type": "code",
   "execution_count": 54,
   "id": "9ea94405",
   "metadata": {},
   "outputs": [
    {
     "data": {
      "text/plain": [
       "tensor([0, 1, 2, 3])"
      ]
     },
     "execution_count": 54,
     "metadata": {},
     "output_type": "execute_result"
    }
   ],
   "source": [
    "g.nodes()"
   ]
  },
  {
   "cell_type": "code",
   "execution_count": 55,
   "id": "8e7fd7ad",
   "metadata": {},
   "outputs": [
    {
     "data": {
      "text/plain": [
       "(tensor([0, 0, 0, 1]), tensor([1, 2, 3, 3]))"
      ]
     },
     "execution_count": 55,
     "metadata": {},
     "output_type": "execute_result"
    }
   ],
   "source": [
    "g.edges()"
   ]
  },
  {
   "cell_type": "code",
   "execution_count": 56,
   "id": "94a0e84b",
   "metadata": {},
   "outputs": [
    {
     "data": {
      "text/plain": [
       "(tensor([0, 0, 0, 1]), tensor([1, 2, 3, 3]), tensor([0, 1, 2, 3]))"
      ]
     },
     "execution_count": 56,
     "metadata": {},
     "output_type": "execute_result"
    }
   ],
   "source": [
    "g.edges(form='all')## Edge end nodes and edge IDs"
   ]
  },
  {
   "cell_type": "code",
   "execution_count": 57,
   "id": "a1ae5d7e",
   "metadata": {},
   "outputs": [
    {
     "data": {
      "text/plain": [
       "Graph(num_nodes=8, num_edges=4,\n",
       "      ndata_schemes={}\n",
       "      edata_schemes={})"
      ]
     },
     "execution_count": 57,
     "metadata": {},
     "output_type": "execute_result"
    }
   ],
   "source": [
    "\n",
    "# If the node with the largest ID is isolated (meaning no edges),\n",
    "# then one needs to explicitly set the number of nodes\n",
    "g8 = dgl.graph((u, v), num_nodes=8)\n",
    "g8"
   ]
  },
  {
   "cell_type": "code",
   "execution_count": 58,
   "id": "d930448c",
   "metadata": {},
   "outputs": [
    {
     "data": {
      "text/plain": [
       "(tensor([0, 0, 0, 1]), tensor([1, 2, 3, 3]), tensor([0, 1, 2, 3]))"
      ]
     },
     "execution_count": 58,
     "metadata": {},
     "output_type": "execute_result"
    }
   ],
   "source": [
    "g8.edges(form='all')"
   ]
  },
  {
   "cell_type": "code",
   "execution_count": 59,
   "id": "b7e58501",
   "metadata": {},
   "outputs": [
    {
     "data": {
      "text/plain": [
       "(tensor([0, 0, 0, 1]), tensor([1, 2, 3, 3]))"
      ]
     },
     "execution_count": 59,
     "metadata": {},
     "output_type": "execute_result"
    }
   ],
   "source": [
    "g8.edges()"
   ]
  },
  {
   "cell_type": "code",
   "execution_count": 60,
   "id": "fab3855d",
   "metadata": {},
   "outputs": [
    {
     "data": {
      "text/plain": [
       "Graph(num_nodes=4, num_edges=8,\n",
       "      ndata_schemes={}\n",
       "      edata_schemes={})"
      ]
     },
     "execution_count": 60,
     "metadata": {},
     "output_type": "execute_result"
    }
   ],
   "source": [
    "g = dgl.to_bidirected(g)\n",
    "g"
   ]
  },
  {
   "cell_type": "code",
   "execution_count": 61,
   "id": "ae217c71",
   "metadata": {},
   "outputs": [
    {
     "data": {
      "text/plain": [
       "(tensor([0, 0, 0, 1, 1, 2, 3, 3]),\n",
       " tensor([1, 2, 3, 0, 3, 0, 0, 1]),\n",
       " tensor([0, 1, 2, 3, 4, 5, 6, 7]))"
      ]
     },
     "execution_count": 61,
     "metadata": {},
     "output_type": "execute_result"
    }
   ],
   "source": [
    "g.edges(form='all')"
   ]
  },
  {
   "cell_type": "code",
   "execution_count": 62,
   "id": "f79f9eea",
   "metadata": {},
   "outputs": [
    {
     "data": {
      "image/png": "[encoded data removed]",
      "text/plain": [
       "<Figure size 640x480 with 1 Axes>"
      ]
     },
     "metadata": {},
     "output_type": "display_data"
    }
   ],
   "source": [
    "drawnx(g)"
   ]
  },
  {
   "attachments": {},
   "cell_type": "markdown",
   "id": "ed413fa0",
   "metadata": {},
   "source": [
    "#### Node and Edge features"
   ]
  },
  {
   "cell_type": "code",
   "execution_count": 63,
   "id": "4bf42d8c",
   "metadata": {},
   "outputs": [
    {
     "data": {
      "text/plain": [
       "tensor([0, 0, 1, 5])"
      ]
     },
     "execution_count": 63,
     "metadata": {},
     "output_type": "execute_result"
    }
   ],
   "source": [
    "torch.tensor([0,0,1,5])"
   ]
  },
  {
   "cell_type": "code",
   "execution_count": 64,
   "id": "ae6a058a",
   "metadata": {},
   "outputs": [
    {
     "data": {
      "text/plain": [
       "Graph(num_nodes=6, num_edges=4,\n",
       "      ndata_schemes={}\n",
       "      edata_schemes={})"
      ]
     },
     "execution_count": 64,
     "metadata": {},
     "output_type": "execute_result"
    }
   ],
   "source": [
    "g = dgl.graph((torch.tensor([0,0,1,5]),torch.tensor([1,2,2,0])))\n",
    "g"
   ]
  },
  {
   "cell_type": "code",
   "execution_count": 65,
   "id": "f466b6a1",
   "metadata": {},
   "outputs": [
    {
     "data": {
      "image/png": "[encoded data removed]",
      "text/plain": [
       "<Figure size 640x480 with 1 Axes>"
      ]
     },
     "metadata": {},
     "output_type": "display_data"
    }
   ],
   "source": [
    "drawnx(g)"
   ]
  },
  {
   "cell_type": "code",
   "execution_count": 66,
   "id": "b0e9cebf",
   "metadata": {},
   "outputs": [
    {
     "data": {
      "text/plain": [
       "(tensor([0, 0, 1, 5]), tensor([1, 2, 2, 0]), tensor([0, 1, 2, 3]))"
      ]
     },
     "execution_count": 66,
     "metadata": {},
     "output_type": "execute_result"
    }
   ],
   "source": [
    "g.edges(form='all')"
   ]
  },
  {
   "cell_type": "code",
   "execution_count": 67,
   "id": "8f4e346d",
   "metadata": {},
   "outputs": [
    {
     "data": {
      "text/plain": [
       "((tensor([0, 0, 1, 5]), tensor([1, 2, 2, 0])), tensor([0, 1, 2, 3, 4, 5]))"
      ]
     },
     "execution_count": 67,
     "metadata": {},
     "output_type": "execute_result"
    }
   ],
   "source": [
    "g.edges(),g.nodes()"
   ]
  },
  {
   "cell_type": "code",
   "execution_count": 68,
   "id": "3beef61c",
   "metadata": {},
   "outputs": [
    {
     "data": {
      "text/plain": [
       "4"
      ]
     },
     "execution_count": 68,
     "metadata": {},
     "output_type": "execute_result"
    }
   ],
   "source": [
    "g.num_edges()"
   ]
  },
  {
   "cell_type": "code",
   "execution_count": 69,
   "id": "7c7897d3",
   "metadata": {},
   "outputs": [
    {
     "data": {
      "text/plain": [
       "tensor([[1., 1., 1.],\n",
       "        [1., 1., 1.],\n",
       "        [1., 1., 1.],\n",
       "        [1., 1., 1.]])"
      ]
     },
     "execution_count": 69,
     "metadata": {},
     "output_type": "execute_result"
    }
   ],
   "source": [
    "torch.ones(g.num_edges(),3)"
   ]
  },
  {
   "cell_type": "code",
   "execution_count": 70,
   "id": "ef019367",
   "metadata": {},
   "outputs": [
    {
     "data": {
      "text/plain": [
       "tensor([[1., 1., 1.],\n",
       "        [1., 1., 1.],\n",
       "        [1., 1., 1.],\n",
       "        [1., 1., 1.],\n",
       "        [1., 1., 1.],\n",
       "        [1., 1., 1.]])"
      ]
     },
     "execution_count": 70,
     "metadata": {},
     "output_type": "execute_result"
    }
   ],
   "source": [
    "torch.ones(g.num_nodes(),3)"
   ]
  },
  {
   "cell_type": "code",
   "execution_count": 71,
   "id": "394f7e14",
   "metadata": {},
   "outputs": [],
   "source": [
    "g.ndata['x'] = torch.ones(g.num_nodes(),3)\n",
    "g.edata['x'] = torch.ones(g.num_edges())"
   ]
  },
  {
   "cell_type": "code",
   "execution_count": 72,
   "id": "d9d95a67",
   "metadata": {},
   "outputs": [
    {
     "data": {
      "text/plain": [
       "tensor([1., 1., 1., 1.])"
      ]
     },
     "execution_count": 72,
     "metadata": {},
     "output_type": "execute_result"
    }
   ],
   "source": [
    "torch.ones(g.num_edges())"
   ]
  },
  {
   "cell_type": "code",
   "execution_count": 73,
   "id": "8a4c9c1d",
   "metadata": {},
   "outputs": [
    {
     "data": {
      "text/plain": [
       "Graph(num_nodes=6, num_edges=4,\n",
       "      ndata_schemes={'x': Scheme(shape=(3,), dtype=torch.float32)}\n",
       "      edata_schemes={'x': Scheme(shape=(), dtype=torch.float32)})"
      ]
     },
     "execution_count": 73,
     "metadata": {},
     "output_type": "execute_result"
    }
   ],
   "source": [
    "g"
   ]
  },
  {
   "cell_type": "code",
   "execution_count": null,
   "id": "6080bc4a",
   "metadata": {},
   "outputs": [],
   "source": []
  },
  {
   "cell_type": "code",
   "execution_count": null,
   "id": "bfaf3263",
   "metadata": {},
   "outputs": [],
   "source": []
  },
  {
   "cell_type": "code",
   "execution_count": null,
   "id": "86c4fb8b",
   "metadata": {},
   "outputs": [],
   "source": []
  },
  {
   "cell_type": "code",
   "execution_count": null,
   "id": "3a46be9b",
   "metadata": {},
   "outputs": [],
   "source": []
  },
  {
   "attachments": {},
   "cell_type": "markdown",
   "id": "1a066507",
   "metadata": {},
   "source": [
    "#### Node Classification with DGL¶"
   ]
  },
  {
   "cell_type": "code",
   "execution_count": 74,
   "id": "01e5376e",
   "metadata": {},
   "outputs": [],
   "source": [
    "import dgl\n",
    "import torch\n",
    "import torch.nn as nn\n",
    "import torch.nn.functional as F"
   ]
  },
  {
   "cell_type": "code",
   "execution_count": 75,
   "id": "8aac3e5b",
   "metadata": {},
   "outputs": [
    {
     "name": "stdout",
     "output_type": "stream",
     "text": [
      "  NumNodes: 2708\n",
      "  NumEdges: 10556\n",
      "  NumFeats: 1433\n",
      "  NumClasses: 7\n",
      "  NumTrainingSamples: 140\n",
      "  NumValidationSamples: 500\n",
      "  NumTestSamples: 1000\n",
      "Done loading data from cached files.\n",
      "Number of categories: 7\n"
     ]
    }
   ],
   "source": [
    "import dgl.data\n",
    "\n",
    "dataset = dgl.data.CoraGraphDataset()\n",
    "print('Number of categories:', dataset.num_classes)"
   ]
  },
  {
   "cell_type": "code",
   "execution_count": 76,
   "id": "dca4845e",
   "metadata": {},
   "outputs": [],
   "source": [
    "g = dataset[0]\n"
   ]
  },
  {
   "cell_type": "code",
   "execution_count": 77,
   "id": "f0eb2475",
   "metadata": {},
   "outputs": [
    {
     "name": "stdout",
     "output_type": "stream",
     "text": [
      "Node features\n",
      "{'feat': tensor([[0., 0., 0.,  ..., 0., 0., 0.],\n",
      "        [0., 0., 0.,  ..., 0., 0., 0.],\n",
      "        [0., 0., 0.,  ..., 0., 0., 0.],\n",
      "        ...,\n",
      "        [0., 0., 0.,  ..., 0., 0., 0.],\n",
      "        [0., 0., 0.,  ..., 0., 0., 0.],\n",
      "        [0., 0., 0.,  ..., 0., 0., 0.]]), 'label': tensor([3, 4, 4,  ..., 3, 3, 3]), 'val_mask': tensor([False, False, False,  ..., False, False, False]), 'test_mask': tensor([False, False, False,  ...,  True,  True,  True]), 'train_mask': tensor([ True,  True,  True,  ..., False, False, False])}\n",
      "Edge features\n",
      "{}\n"
     ]
    }
   ],
   "source": [
    "print('Node features')\n",
    "print(g.ndata)\n",
    "print('Edge features')\n",
    "print(g.edata)"
   ]
  },
  {
   "cell_type": "code",
   "execution_count": 78,
   "id": "99240438",
   "metadata": {},
   "outputs": [],
   "source": [
    "from dgl.nn import GraphConv\n",
    "import torch.nn as nn"
   ]
  },
  {
   "cell_type": "code",
   "execution_count": 79,
   "id": "147bf6b5",
   "metadata": {},
   "outputs": [],
   "source": [
    "from dgl.nn import GraphConv\n",
    "\n",
    "class GCN(nn.Module):\n",
    "    def __init__(self, in_feats, h_feats, num_classes):\n",
    "        super(GCN, self).__init__()\n",
    "        self.conv1 = GraphConv(in_feats, h_feats)\n",
    "        self.conv2 = GraphConv(h_feats, num_classes)\n",
    "\n",
    "    def forward(self, g, in_feat):\n",
    "        h = self.conv1(g, in_feat)\n",
    "        h = F.relu(h)\n",
    "        h = self.conv2(g, h)\n",
    "        return h\n",
    "\n",
    "# Create the model with given dimensions\n",
    "model = GCN(g.ndata['feat'].shape[1], 16, dataset.num_classes)"
   ]
  },
  {
   "cell_type": "code",
   "execution_count": 80,
   "id": "a28ceae7",
   "metadata": {},
   "outputs": [
    {
     "name": "stdout",
     "output_type": "stream",
     "text": [
      "In epoch 0, loss: 1.945, val acc: 0.242 (best 0.242), test acc: 0.205 (best 0.205)\n",
      "In epoch 5, loss: 1.886, val acc: 0.560 (best 0.560), test acc: 0.607 (best 0.607)\n",
      "In epoch 10, loss: 1.801, val acc: 0.622 (best 0.622), test acc: 0.647 (best 0.647)\n",
      "In epoch 15, loss: 1.694, val acc: 0.596 (best 0.622), test acc: 0.632 (best 0.647)\n",
      "In epoch 20, loss: 1.565, val acc: 0.658 (best 0.658), test acc: 0.659 (best 0.659)\n",
      "In epoch 25, loss: 1.417, val acc: 0.694 (best 0.694), test acc: 0.681 (best 0.681)\n",
      "In epoch 30, loss: 1.257, val acc: 0.700 (best 0.702), test acc: 0.706 (best 0.695)\n",
      "In epoch 35, loss: 1.092, val acc: 0.708 (best 0.708), test acc: 0.722 (best 0.722)\n",
      "In epoch 40, loss: 0.929, val acc: 0.720 (best 0.720), test acc: 0.728 (best 0.728)\n",
      "In epoch 45, loss: 0.777, val acc: 0.732 (best 0.732), test acc: 0.731 (best 0.732)\n",
      "In epoch 50, loss: 0.639, val acc: 0.738 (best 0.738), test acc: 0.740 (best 0.739)\n",
      "In epoch 55, loss: 0.521, val acc: 0.742 (best 0.742), test acc: 0.752 (best 0.752)\n",
      "In epoch 60, loss: 0.422, val acc: 0.752 (best 0.752), test acc: 0.755 (best 0.755)\n",
      "In epoch 65, loss: 0.342, val acc: 0.758 (best 0.758), test acc: 0.760 (best 0.760)\n",
      "In epoch 70, loss: 0.279, val acc: 0.760 (best 0.760), test acc: 0.762 (best 0.762)\n",
      "In epoch 75, loss: 0.229, val acc: 0.762 (best 0.762), test acc: 0.763 (best 0.764)\n",
      "In epoch 80, loss: 0.189, val acc: 0.758 (best 0.762), test acc: 0.764 (best 0.764)\n",
      "In epoch 85, loss: 0.158, val acc: 0.760 (best 0.762), test acc: 0.764 (best 0.764)\n",
      "In epoch 90, loss: 0.134, val acc: 0.766 (best 0.766), test acc: 0.765 (best 0.766)\n",
      "In epoch 95, loss: 0.114, val acc: 0.768 (best 0.770), test acc: 0.767 (best 0.764)\n"
     ]
    }
   ],
   "source": [
    "def train(g, model):\n",
    "    optimizer = torch.optim.Adam(model.parameters(), lr=0.01)\n",
    "    best_val_acc = 0\n",
    "    best_test_acc = 0\n",
    "\n",
    "    features = g.ndata['feat']\n",
    "    labels = g.ndata['label']\n",
    "    train_mask = g.ndata['train_mask']\n",
    "    val_mask = g.ndata['val_mask']\n",
    "    test_mask = g.ndata['test_mask']\n",
    "    for e in range(100):\n",
    "        # Forward\n",
    "        logits = model(g, features)\n",
    "\n",
    "        # Compute prediction\n",
    "        pred = logits.argmax(1)\n",
    "\n",
    "        # Compute loss\n",
    "        # Note that you should only compute the losses of the nodes in the training set.\n",
    "        loss = F.cross_entropy(logits[train_mask], labels[train_mask])\n",
    "\n",
    "        # Compute accuracy on training/validation/test\n",
    "        train_acc = (pred[train_mask] == labels[train_mask]).float().mean()\n",
    "        val_acc = (pred[val_mask] == labels[val_mask]).float().mean()\n",
    "        test_acc = (pred[test_mask] == labels[test_mask]).float().mean()\n",
    "\n",
    "        # Save the best validation accuracy and the corresponding test accuracy.\n",
    "        if best_val_acc < val_acc:\n",
    "            best_val_acc = val_acc\n",
    "            best_test_acc = test_acc\n",
    "\n",
    "        # Backward\n",
    "        optimizer.zero_grad()\n",
    "        loss.backward()\n",
    "        optimizer.step()\n",
    "\n",
    "        if e % 5 == 0:\n",
    "            print('In epoch {}, loss: {:.3f}, val acc: {:.3f} (best {:.3f}), test acc: {:.3f} (best {:.3f})'.format(\n",
    "                e, loss, val_acc, best_val_acc, test_acc, best_test_acc))\n",
    "model = GCN(g.ndata['feat'].shape[1], 16, dataset.num_classes)\n",
    "train(g, model)"
   ]
  },
  {
   "attachments": {},
   "cell_type": "markdown",
   "id": "aeaedbbc",
   "metadata": {},
   "source": [
    "### Write your own GNN module¶"
   ]
  },
  {
   "cell_type": "code",
   "execution_count": 81,
   "id": "7d166aa3",
   "metadata": {},
   "outputs": [],
   "source": [
    "import dgl\n",
    "import torch\n",
    "import torch.nn as nn\n",
    "import torch.nn.functional as F"
   ]
  },
  {
   "cell_type": "code",
   "execution_count": 82,
   "id": "d325beeb",
   "metadata": {},
   "outputs": [],
   "source": [
    "import dgl.function as fn\n",
    "\n",
    "class SAGEConv(nn.Module):\n",
    "    \"\"\"Graph convolution module used by the GraphSAGE model.\n",
    "\n",
    "    Parameters\n",
    "    ----------\n",
    "    in_feat : int\n",
    "        Input feature size.\n",
    "    out_feat : int\n",
    "        Output feature size.\n",
    "    \"\"\"\n",
    "    def __init__(self, in_feat, out_feat):\n",
    "        super(SAGEConv, self).__init__()\n",
    "        # A linear submodule for projecting the input and neighbor feature to the output.\n",
    "        self.linear = nn.Linear(in_feat * 2, out_feat)\n",
    "\n",
    "    def forward(self, g, h):\n",
    "        \"\"\"Forward computation\n",
    "\n",
    "        Parameters\n",
    "        ----------\n",
    "        g : Graph\n",
    "            The input graph.\n",
    "        h : Tensor\n",
    "            The input node feature.\n",
    "        \"\"\"\n",
    "        with g.local_scope():\n",
    "            g.ndata['h'] = h\n",
    "            # update_all is a message passing API.\n",
    "            g.update_all(message_func=fn.copy_u('h', 'm'), reduce_func=fn.mean('m', 'h_N'))\n",
    "            h_N = g.ndata['h_N']\n",
    "            h_total = torch.cat([h, h_N], dim=1)\n",
    "            return self.linear(h_total)"
   ]
  },
  {
   "cell_type": "code",
   "execution_count": 83,
   "id": "6b884852",
   "metadata": {},
   "outputs": [],
   "source": [
    "class Model(nn.Module):\n",
    "    def __init__(self, in_feats, h_feats, num_classes):\n",
    "        super(Model, self).__init__()\n",
    "        self.conv1 = SAGEConv(in_feats, h_feats)\n",
    "        self.conv2 = SAGEConv(h_feats, num_classes)\n",
    "\n",
    "    def forward(self, g, in_feat):\n",
    "        h = self.conv1(g, in_feat)\n",
    "        h = F.relu(h)\n",
    "        h = self.conv2(g, h)\n",
    "        return h"
   ]
  },
  {
   "cell_type": "code",
   "execution_count": 84,
   "id": "1c4f7c3b",
   "metadata": {},
   "outputs": [
    {
     "name": "stdout",
     "output_type": "stream",
     "text": [
      "  NumNodes: 2708\n",
      "  NumEdges: 10556\n",
      "  NumFeats: 1433\n",
      "  NumClasses: 7\n",
      "  NumTrainingSamples: 140\n",
      "  NumValidationSamples: 500\n",
      "  NumTestSamples: 1000\n",
      "Done loading data from cached files.\n",
      "In epoch 0, loss: 1.946, val acc: 0.072 (best 0.072), test acc: 0.091 (best 0.091)\n",
      "In epoch 5, loss: 1.888, val acc: 0.432 (best 0.472), test acc: 0.466 (best 0.506)\n",
      "In epoch 10, loss: 1.767, val acc: 0.460 (best 0.472), test acc: 0.503 (best 0.506)\n",
      "In epoch 15, loss: 1.579, val acc: 0.578 (best 0.578), test acc: 0.595 (best 0.595)\n",
      "In epoch 20, loss: 1.331, val acc: 0.662 (best 0.662), test acc: 0.669 (best 0.669)\n",
      "In epoch 25, loss: 1.047, val acc: 0.726 (best 0.726), test acc: 0.730 (best 0.730)\n",
      "In epoch 30, loss: 0.761, val acc: 0.764 (best 0.764), test acc: 0.760 (best 0.760)\n",
      "In epoch 35, loss: 0.514, val acc: 0.768 (best 0.768), test acc: 0.767 (best 0.765)\n",
      "In epoch 40, loss: 0.328, val acc: 0.768 (best 0.772), test acc: 0.772 (best 0.771)\n",
      "In epoch 45, loss: 0.204, val acc: 0.764 (best 0.772), test acc: 0.778 (best 0.771)\n",
      "In epoch 50, loss: 0.128, val acc: 0.770 (best 0.772), test acc: 0.778 (best 0.771)\n",
      "In epoch 55, loss: 0.083, val acc: 0.762 (best 0.772), test acc: 0.779 (best 0.771)\n",
      "In epoch 60, loss: 0.057, val acc: 0.764 (best 0.772), test acc: 0.778 (best 0.771)\n",
      "In epoch 65, loss: 0.041, val acc: 0.754 (best 0.772), test acc: 0.777 (best 0.771)\n",
      "In epoch 70, loss: 0.031, val acc: 0.752 (best 0.772), test acc: 0.775 (best 0.771)\n",
      "In epoch 75, loss: 0.025, val acc: 0.750 (best 0.772), test acc: 0.773 (best 0.771)\n",
      "In epoch 80, loss: 0.020, val acc: 0.754 (best 0.772), test acc: 0.776 (best 0.771)\n",
      "In epoch 85, loss: 0.017, val acc: 0.752 (best 0.772), test acc: 0.776 (best 0.771)\n",
      "In epoch 90, loss: 0.015, val acc: 0.752 (best 0.772), test acc: 0.775 (best 0.771)\n",
      "In epoch 95, loss: 0.013, val acc: 0.752 (best 0.772), test acc: 0.774 (best 0.771)\n",
      "In epoch 100, loss: 0.012, val acc: 0.750 (best 0.772), test acc: 0.775 (best 0.771)\n",
      "In epoch 105, loss: 0.011, val acc: 0.752 (best 0.772), test acc: 0.776 (best 0.771)\n",
      "In epoch 110, loss: 0.010, val acc: 0.752 (best 0.772), test acc: 0.776 (best 0.771)\n",
      "In epoch 115, loss: 0.009, val acc: 0.752 (best 0.772), test acc: 0.775 (best 0.771)\n",
      "In epoch 120, loss: 0.008, val acc: 0.752 (best 0.772), test acc: 0.775 (best 0.771)\n",
      "In epoch 125, loss: 0.008, val acc: 0.750 (best 0.772), test acc: 0.775 (best 0.771)\n",
      "In epoch 130, loss: 0.007, val acc: 0.752 (best 0.772), test acc: 0.778 (best 0.771)\n",
      "In epoch 135, loss: 0.007, val acc: 0.752 (best 0.772), test acc: 0.778 (best 0.771)\n",
      "In epoch 140, loss: 0.006, val acc: 0.752 (best 0.772), test acc: 0.777 (best 0.771)\n",
      "In epoch 145, loss: 0.006, val acc: 0.754 (best 0.772), test acc: 0.776 (best 0.771)\n",
      "In epoch 150, loss: 0.006, val acc: 0.754 (best 0.772), test acc: 0.776 (best 0.771)\n",
      "In epoch 155, loss: 0.005, val acc: 0.754 (best 0.772), test acc: 0.776 (best 0.771)\n",
      "In epoch 160, loss: 0.005, val acc: 0.754 (best 0.772), test acc: 0.776 (best 0.771)\n",
      "In epoch 165, loss: 0.005, val acc: 0.756 (best 0.772), test acc: 0.775 (best 0.771)\n",
      "In epoch 170, loss: 0.005, val acc: 0.756 (best 0.772), test acc: 0.775 (best 0.771)\n",
      "In epoch 175, loss: 0.004, val acc: 0.756 (best 0.772), test acc: 0.775 (best 0.771)\n",
      "In epoch 180, loss: 0.004, val acc: 0.756 (best 0.772), test acc: 0.776 (best 0.771)\n",
      "In epoch 185, loss: 0.004, val acc: 0.756 (best 0.772), test acc: 0.776 (best 0.771)\n",
      "In epoch 190, loss: 0.004, val acc: 0.756 (best 0.772), test acc: 0.776 (best 0.771)\n",
      "In epoch 195, loss: 0.004, val acc: 0.756 (best 0.772), test acc: 0.775 (best 0.771)\n"
     ]
    }
   ],
   "source": [
    "import dgl.data\n",
    "\n",
    "dataset = dgl.data.CoraGraphDataset()\n",
    "g = dataset[0]\n",
    "\n",
    "def train(g, model):\n",
    "    optimizer = torch.optim.Adam(model.parameters(), lr=0.01)\n",
    "    all_logits = []\n",
    "    best_val_acc = 0\n",
    "    best_test_acc = 0\n",
    "\n",
    "    features = g.ndata['feat']\n",
    "    labels = g.ndata['label']\n",
    "    train_mask = g.ndata['train_mask']\n",
    "    val_mask = g.ndata['val_mask']\n",
    "    test_mask = g.ndata['test_mask']\n",
    "    for e in range(200):\n",
    "        # Forward\n",
    "        logits = model(g, features)\n",
    "\n",
    "        # Compute prediction\n",
    "        pred = logits.argmax(1)\n",
    "\n",
    "        # Compute loss\n",
    "        # Note that we should only compute the losses of the nodes in the training set,\n",
    "        # i.e. with train_mask 1.\n",
    "        loss = F.cross_entropy(logits[train_mask], labels[train_mask])\n",
    "\n",
    "        # Compute accuracy on training/validation/test\n",
    "        train_acc = (pred[train_mask] == labels[train_mask]).float().mean()\n",
    "        val_acc = (pred[val_mask] == labels[val_mask]).float().mean()\n",
    "        test_acc = (pred[test_mask] == labels[test_mask]).float().mean()\n",
    "\n",
    "        # Save the best validation accuracy and the corresponding test accuracy.\n",
    "        if best_val_acc < val_acc:\n",
    "            best_val_acc = val_acc\n",
    "            best_test_acc = test_acc\n",
    "\n",
    "        # Backward\n",
    "        optimizer.zero_grad()\n",
    "        loss.backward()\n",
    "        optimizer.step()\n",
    "        all_logits.append(logits.detach())\n",
    "\n",
    "        if e % 5 == 0:\n",
    "            print('In epoch {}, loss: {:.3f}, val acc: {:.3f} (best {:.3f}), test acc: {:.3f} (best {:.3f})'.format(\n",
    "                e, loss, val_acc, best_val_acc, test_acc, best_test_acc))\n",
    "\n",
    "model = Model(g.ndata['feat'].shape[1], 16, dataset.num_classes)\n",
    "train(g, model)"
   ]
  },
  {
   "cell_type": "markdown",
   "id": "7d99a6c7",
   "metadata": {},
   "source": [
    "##### More customization¶"
   ]
  },
  {
   "cell_type": "code",
   "execution_count": 85,
   "id": "5182ba99",
   "metadata": {},
   "outputs": [],
   "source": [
    "class WeightedSAGEConv(nn.Module):\n",
    "    \"\"\"Graph convolution module used by the GraphSAGE model with edge weights.\n",
    "\n",
    "    Parameters\n",
    "    ----------\n",
    "    in_feat : int\n",
    "        Input feature size.\n",
    "    out_feat : int\n",
    "        Output feature size.\n",
    "    \"\"\"\n",
    "    def __init__(self, in_feat, out_feat):\n",
    "        super(WeightedSAGEConv, self).__init__()\n",
    "        # A linear submodule for projecting the input and neighbor feature to the output.\n",
    "        self.linear = nn.Linear(in_feat * 2, out_feat)\n",
    "\n",
    "    def forward(self, g, h, w):\n",
    "        \"\"\"Forward computation\n",
    "\n",
    "        Parameters\n",
    "        ----------\n",
    "        g : Graph\n",
    "            The input graph.\n",
    "        h : Tensor\n",
    "            The input node feature.\n",
    "        w : Tensor\n",
    "            The edge weight.\n",
    "        \"\"\"\n",
    "        with g.local_scope():\n",
    "            g.ndata['h'] = h\n",
    "            g.edata['w'] = w\n",
    "            g.update_all(message_func=fn.u_mul_e('h', 'w', 'm'), reduce_func=fn.mean('m', 'h_N'))\n",
    "            h_N = g.ndata['h_N']\n",
    "            h_total = torch.cat([h, h_N], dim=1)\n",
    "            return self.linear(h_total)"
   ]
  },
  {
   "cell_type": "code",
   "execution_count": 86,
   "id": "c2bbd6bb",
   "metadata": {},
   "outputs": [
    {
     "name": "stdout",
     "output_type": "stream",
     "text": [
      "In epoch 0, loss: 1.948, val acc: 0.156 (best 0.156), test acc: 0.144 (best 0.144)\n",
      "In epoch 5, loss: 1.883, val acc: 0.502 (best 0.502), test acc: 0.493 (best 0.493)\n",
      "In epoch 10, loss: 1.753, val acc: 0.478 (best 0.592), test acc: 0.496 (best 0.584)\n",
      "In epoch 15, loss: 1.552, val acc: 0.612 (best 0.612), test acc: 0.632 (best 0.632)\n",
      "In epoch 20, loss: 1.285, val acc: 0.688 (best 0.688), test acc: 0.688 (best 0.688)\n",
      "In epoch 25, loss: 0.978, val acc: 0.712 (best 0.712), test acc: 0.717 (best 0.717)\n",
      "In epoch 30, loss: 0.676, val acc: 0.732 (best 0.734), test acc: 0.736 (best 0.730)\n",
      "In epoch 35, loss: 0.429, val acc: 0.760 (best 0.760), test acc: 0.752 (best 0.752)\n",
      "In epoch 40, loss: 0.257, val acc: 0.758 (best 0.762), test acc: 0.754 (best 0.752)\n",
      "In epoch 45, loss: 0.152, val acc: 0.762 (best 0.762), test acc: 0.758 (best 0.752)\n",
      "In epoch 50, loss: 0.093, val acc: 0.756 (best 0.762), test acc: 0.759 (best 0.752)\n",
      "In epoch 55, loss: 0.060, val acc: 0.756 (best 0.762), test acc: 0.756 (best 0.752)\n",
      "In epoch 60, loss: 0.041, val acc: 0.758 (best 0.762), test acc: 0.757 (best 0.752)\n",
      "In epoch 65, loss: 0.030, val acc: 0.756 (best 0.762), test acc: 0.754 (best 0.752)\n",
      "In epoch 70, loss: 0.023, val acc: 0.762 (best 0.764), test acc: 0.753 (best 0.753)\n",
      "In epoch 75, loss: 0.019, val acc: 0.764 (best 0.764), test acc: 0.752 (best 0.753)\n",
      "In epoch 80, loss: 0.016, val acc: 0.764 (best 0.764), test acc: 0.751 (best 0.753)\n",
      "In epoch 85, loss: 0.013, val acc: 0.764 (best 0.764), test acc: 0.751 (best 0.753)\n",
      "In epoch 90, loss: 0.012, val acc: 0.764 (best 0.764), test acc: 0.749 (best 0.753)\n",
      "In epoch 95, loss: 0.011, val acc: 0.762 (best 0.764), test acc: 0.749 (best 0.753)\n",
      "In epoch 100, loss: 0.010, val acc: 0.760 (best 0.764), test acc: 0.748 (best 0.753)\n",
      "In epoch 105, loss: 0.009, val acc: 0.760 (best 0.764), test acc: 0.749 (best 0.753)\n",
      "In epoch 110, loss: 0.008, val acc: 0.760 (best 0.764), test acc: 0.749 (best 0.753)\n",
      "In epoch 115, loss: 0.008, val acc: 0.760 (best 0.764), test acc: 0.749 (best 0.753)\n",
      "In epoch 120, loss: 0.007, val acc: 0.760 (best 0.764), test acc: 0.750 (best 0.753)\n",
      "In epoch 125, loss: 0.007, val acc: 0.760 (best 0.764), test acc: 0.750 (best 0.753)\n",
      "In epoch 130, loss: 0.006, val acc: 0.760 (best 0.764), test acc: 0.749 (best 0.753)\n",
      "In epoch 135, loss: 0.006, val acc: 0.760 (best 0.764), test acc: 0.748 (best 0.753)\n",
      "In epoch 140, loss: 0.005, val acc: 0.760 (best 0.764), test acc: 0.748 (best 0.753)\n",
      "In epoch 145, loss: 0.005, val acc: 0.760 (best 0.764), test acc: 0.748 (best 0.753)\n",
      "In epoch 150, loss: 0.005, val acc: 0.760 (best 0.764), test acc: 0.749 (best 0.753)\n",
      "In epoch 155, loss: 0.005, val acc: 0.762 (best 0.764), test acc: 0.749 (best 0.753)\n",
      "In epoch 160, loss: 0.004, val acc: 0.762 (best 0.764), test acc: 0.748 (best 0.753)\n",
      "In epoch 165, loss: 0.004, val acc: 0.764 (best 0.764), test acc: 0.748 (best 0.753)\n",
      "In epoch 170, loss: 0.004, val acc: 0.764 (best 0.764), test acc: 0.748 (best 0.753)\n",
      "In epoch 175, loss: 0.004, val acc: 0.764 (best 0.764), test acc: 0.748 (best 0.753)\n",
      "In epoch 180, loss: 0.004, val acc: 0.764 (best 0.764), test acc: 0.748 (best 0.753)\n",
      "In epoch 185, loss: 0.003, val acc: 0.764 (best 0.764), test acc: 0.748 (best 0.753)\n",
      "In epoch 190, loss: 0.003, val acc: 0.764 (best 0.764), test acc: 0.749 (best 0.753)\n",
      "In epoch 195, loss: 0.003, val acc: 0.764 (best 0.764), test acc: 0.749 (best 0.753)\n"
     ]
    }
   ],
   "source": [
    "class Model(nn.Module):\n",
    "    def __init__(self, in_feats, h_feats, num_classes):\n",
    "        super(Model, self).__init__()\n",
    "        self.conv1 = WeightedSAGEConv(in_feats, h_feats)\n",
    "        self.conv2 = WeightedSAGEConv(h_feats, num_classes)\n",
    "\n",
    "    def forward(self, g, in_feat):\n",
    "        h = self.conv1(g, in_feat, torch.ones(g.num_edges(), 1).to(g.device))\n",
    "        h = F.relu(h)\n",
    "        h = self.conv2(g, h, torch.ones(g.num_edges(), 1).to(g.device))\n",
    "        return h\n",
    "\n",
    "model = Model(g.ndata['feat'].shape[1], 16, dataset.num_classes)\n",
    "train(g, model)"
   ]
  },
  {
   "cell_type": "markdown",
   "id": "a5f5d8b1",
   "metadata": {},
   "source": [
    "##### Even more customization by user-defined function¶"
   ]
  },
  {
   "attachments": {},
   "cell_type": "markdown",
   "id": "cfa4c9d6",
   "metadata": {},
   "source": []
  },
  {
   "cell_type": "code",
   "execution_count": 87,
   "id": "f84e9324",
   "metadata": {},
   "outputs": [],
   "source": [
    "def u_mul_e_udf(edges):\n",
    "    return {'m' : edges.src['h'] * edges.data['w']}"
   ]
  },
  {
   "cell_type": "code",
   "execution_count": 88,
   "id": "d99cd3de",
   "metadata": {},
   "outputs": [],
   "source": [
    "def mean_udf(nodes):\n",
    "    return {'h_N': nodes.mailbox['m'].mean(1)}"
   ]
  },
  {
   "attachments": {},
   "cell_type": "markdown",
   "id": "d40067a9",
   "metadata": {},
   "source": [
    "#### Best practice of writing custom GNN modules¶\n",
    "DGL recommends the following practice ranked by preference:\n",
    "\n",
    "Use dgl.nn modules.\n",
    "\n",
    "Use dgl.nn.functional functions which contain lower-level complex operations such as computing a softmax for each node over incoming edges.\n",
    "\n",
    "Use update_all with builtin message and reduce functions.\n",
    "\n",
    "Use user-defined message or reduce functions."
   ]
  },
  {
   "cell_type": "code",
   "execution_count": null,
   "id": "964333b3",
   "metadata": {},
   "outputs": [],
   "source": []
  },
  {
   "cell_type": "code",
   "execution_count": null,
   "id": "529069d4",
   "metadata": {},
   "outputs": [],
   "source": []
  },
  {
   "cell_type": "code",
   "execution_count": null,
   "id": "8c8dd6b8",
   "metadata": {},
   "outputs": [],
   "source": []
  },
  {
   "attachments": {},
   "cell_type": "markdown",
   "id": "a2f112e7",
   "metadata": {},
   "source": [
    "#### Link Prediction using Graph Neural Networks¶"
   ]
  },
  {
   "cell_type": "code",
   "execution_count": 89,
   "id": "810107b8",
   "metadata": {},
   "outputs": [],
   "source": [
    "import dgl\n",
    "import torch\n",
    "import torch.nn as nn\n",
    "import torch.nn.functional as F\n",
    "import itertools\n",
    "import numpy as np\n",
    "import scipy.sparse as sp"
   ]
  },
  {
   "cell_type": "code",
   "execution_count": 90,
   "id": "3a3db532",
   "metadata": {},
   "outputs": [
    {
     "name": "stdout",
     "output_type": "stream",
     "text": [
      "  NumNodes: 2708\n",
      "  NumEdges: 10556\n",
      "  NumFeats: 1433\n",
      "  NumClasses: 7\n",
      "  NumTrainingSamples: 140\n",
      "  NumValidationSamples: 500\n",
      "  NumTestSamples: 1000\n",
      "Done loading data from cached files.\n"
     ]
    }
   ],
   "source": [
    "import dgl.data\n",
    "\n",
    "dataset = dgl.data.CoraGraphDataset()\n",
    "g = dataset[0]"
   ]
  },
  {
   "cell_type": "code",
   "execution_count": 91,
   "id": "7daae953",
   "metadata": {},
   "outputs": [],
   "source": [
    "# Split edge set for training and testing\n",
    "u, v = g.edges()\n",
    "\n",
    "eids = np.arange(g.number_of_edges())\n",
    "eids = np.random.permutation(eids)\n",
    "test_size = int(len(eids) * 0.1)\n",
    "train_size = g.number_of_edges() - test_size\n",
    "test_pos_u, test_pos_v = u[eids[:test_size]], v[eids[:test_size]]\n",
    "train_pos_u, train_pos_v = u[eids[test_size:]], v[eids[test_size:]]\n",
    "\n",
    "# Find all negative edges and split them for training and testing\n",
    "adj = sp.coo_matrix((np.ones(len(u)), (u.numpy(), v.numpy())))\n",
    "adj_neg = 1 - adj.todense() - np.eye(g.number_of_nodes())\n",
    "neg_u, neg_v = np.where(adj_neg != 0)\n",
    "\n",
    "neg_eids = np.random.choice(len(neg_u), g.number_of_edges())\n",
    "test_neg_u, test_neg_v = neg_u[neg_eids[:test_size]], neg_v[neg_eids[:test_size]]\n",
    "train_neg_u, train_neg_v = neg_u[neg_eids[test_size:]], neg_v[neg_eids[test_size:]]"
   ]
  },
  {
   "cell_type": "code",
   "execution_count": 92,
   "id": "4cf86ff0",
   "metadata": {},
   "outputs": [],
   "source": [
    "from dgl.nn import SAGEConv\n",
    "\n",
    "# ----------- 2. create model -------------- #\n",
    "# build a two-layer GraphSAGE model\n",
    "class GraphSAGE(nn.Module):\n",
    "    def __init__(self, in_feats, h_feats):\n",
    "        super(GraphSAGE, self).__init__()\n",
    "        self.conv1 = SAGEConv(in_feats, h_feats, 'mean')\n",
    "        self.conv2 = SAGEConv(h_feats, h_feats, 'mean')\n",
    "\n",
    "    def forward(self, g, in_feat):\n",
    "        h = self.conv1(g, in_feat)\n",
    "        h = F.relu(h)\n",
    "        h = self.conv2(g, h)\n",
    "        return h"
   ]
  },
  {
   "cell_type": "code",
   "execution_count": 93,
   "id": "43d577ee",
   "metadata": {},
   "outputs": [],
   "source": [
    "train_pos_g = dgl.graph((train_pos_u, train_pos_v), num_nodes=g.number_of_nodes())\n",
    "train_neg_g = dgl.graph((train_neg_u, train_neg_v), num_nodes=g.number_of_nodes())\n",
    "\n",
    "test_pos_g = dgl.graph((test_pos_u, test_pos_v), num_nodes=g.number_of_nodes())\n",
    "test_neg_g = dgl.graph((test_neg_u, test_neg_v), num_nodes=g.number_of_nodes())"
   ]
  },
  {
   "cell_type": "code",
   "execution_count": 94,
   "id": "e2eb8bf2",
   "metadata": {},
   "outputs": [],
   "source": [
    "import dgl.function as fn\n",
    "\n",
    "class DotPredictor(nn.Module):\n",
    "    def forward(self, g, h):\n",
    "        with g.local_scope():\n",
    "            g.ndata['h'] = h\n",
    "            # Compute a new edge feature named 'score' by a dot-product between the\n",
    "            # source node feature 'h' and destination node feature 'h'.\n",
    "            g.apply_edges(fn.u_dot_v('h', 'h', 'score'))\n",
    "            # u_dot_v returns a 1-element vector for each edge so you need to squeeze it.\n",
    "            return g.edata['score'][:, 0]"
   ]
  },
  {
   "cell_type": "code",
   "execution_count": 95,
   "id": "20203d6e",
   "metadata": {},
   "outputs": [],
   "source": [
    "class MLPPredictor(nn.Module):\n",
    "    def __init__(self, h_feats):\n",
    "        super().__init__()\n",
    "        self.W1 = nn.Linear(h_feats * 2, h_feats)\n",
    "        self.W2 = nn.Linear(h_feats, 1)\n",
    "\n",
    "    def apply_edges(self, edges):\n",
    "        \"\"\"\n",
    "        Computes a scalar score for each edge of the given graph.\n",
    "\n",
    "        Parameters\n",
    "        ----------\n",
    "        edges :\n",
    "            Has three members ``src``, ``dst`` and ``data``, each of\n",
    "            which is a dictionary representing the features of the\n",
    "            source nodes, the destination nodes, and the edges\n",
    "            themselves.\n",
    "\n",
    "        Returns\n",
    "        -------\n",
    "        dict\n",
    "            A dictionary of new edge features.\n",
    "        \"\"\"\n",
    "        h = torch.cat([edges.src['h'], edges.dst['h']], 1)\n",
    "        return {'score': self.W2(F.relu(self.W1(h))).squeeze(1)}\n",
    "\n",
    "    def forward(self, g, h):\n",
    "        with g.local_scope():\n",
    "            g.ndata['h'] = h\n",
    "            g.apply_edges(self.apply_edges)\n",
    "            return g.edata['score']"
   ]
  },
  {
   "cell_type": "code",
   "execution_count": 96,
   "id": "a3b1b734",
   "metadata": {},
   "outputs": [],
   "source": [
    "train_g = dgl.remove_edges(g, eids[:test_size])"
   ]
  },
  {
   "cell_type": "code",
   "execution_count": 97,
   "id": "7681d041",
   "metadata": {},
   "outputs": [],
   "source": [
    "model = GraphSAGE(train_g.ndata['feat'].shape[1], 16)\n",
    "# You can replace DotPredictor with MLPPredictor.\n",
    "#pred = MLPPredictor(16)\n",
    "pred = DotPredictor()\n",
    "\n",
    "def compute_loss(pos_score, neg_score):\n",
    "    scores = torch.cat([pos_score, neg_score])\n",
    "    labels = torch.cat([torch.ones(pos_score.shape[0]), torch.zeros(neg_score.shape[0])])\n",
    "    return F.binary_cross_entropy_with_logits(scores, labels)\n",
    "\n",
    "def compute_auc(pos_score, neg_score):\n",
    "    scores = torch.cat([pos_score, neg_score]).numpy()\n",
    "    labels = torch.cat(\n",
    "        [torch.ones(pos_score.shape[0]), torch.zeros(neg_score.shape[0])]).numpy()\n",
    "    return roc_auc_score(labels, scores)"
   ]
  },
  {
   "cell_type": "code",
   "execution_count": 98,
   "id": "d3e677a7",
   "metadata": {},
   "outputs": [
    {
     "name": "stdout",
     "output_type": "stream",
     "text": [
      "In epoch 0, loss: 0.692996621131897\n",
      "In epoch 5, loss: 0.6643968224525452\n",
      "In epoch 10, loss: 0.5760560035705566\n",
      "In epoch 15, loss: 0.5207574963569641\n",
      "In epoch 20, loss: 0.4886348247528076\n",
      "In epoch 25, loss: 0.45955556631088257\n",
      "In epoch 30, loss: 0.43599727749824524\n",
      "In epoch 35, loss: 0.4122793972492218\n",
      "In epoch 40, loss: 0.3911859393119812\n",
      "In epoch 45, loss: 0.37066546082496643\n",
      "In epoch 50, loss: 0.3498465120792389\n",
      "In epoch 55, loss: 0.32882270216941833\n",
      "In epoch 60, loss: 0.30741947889328003\n",
      "In epoch 65, loss: 0.2857332229614258\n",
      "In epoch 70, loss: 0.26410531997680664\n",
      "In epoch 75, loss: 0.24298860132694244\n",
      "In epoch 80, loss: 0.22168181836605072\n",
      "In epoch 85, loss: 0.20047414302825928\n",
      "In epoch 90, loss: 0.17994222044944763\n",
      "In epoch 95, loss: 0.15991979837417603\n",
      "AUC 0.8456728285528177\n"
     ]
    }
   ],
   "source": [
    "# ----------- 3. set up loss and optimizer -------------- #\n",
    "# in this case, loss will in training loop\n",
    "optimizer = torch.optim.Adam(itertools.chain(model.parameters(), pred.parameters()), lr=0.01)\n",
    "\n",
    "# ----------- 4. training -------------------------------- #\n",
    "all_logits = []\n",
    "for e in range(100):\n",
    "    # forward\n",
    "    h = model(train_g, train_g.ndata['feat'])\n",
    "    pos_score = pred(train_pos_g, h)\n",
    "    neg_score = pred(train_neg_g, h)\n",
    "    loss = compute_loss(pos_score, neg_score)\n",
    "\n",
    "    # backward\n",
    "    optimizer.zero_grad()\n",
    "    loss.backward()\n",
    "    optimizer.step()\n",
    "\n",
    "    if e % 5 == 0:\n",
    "        print('In epoch {}, loss: {}'.format(e, loss))\n",
    "\n",
    "# ----------- 5. check results ------------------------ #\n",
    "from sklearn.metrics import roc_auc_score\n",
    "with torch.no_grad():\n",
    "    pos_score = pred(test_pos_g, h)\n",
    "    neg_score = pred(test_neg_g, h)\n",
    "    print('AUC', compute_auc(pos_score, neg_score))\n",
    "\n",
    "\n",
    "# Thumbnail credits: Link Prediction with Neo4j, Mark Needham\n",
    "# sphinx_gallery_thumbnail_path = '_static/blitz_4_link_predict.png'"
   ]
  },
  {
   "attachments": {},
   "cell_type": "markdown",
   "id": "610b8968",
   "metadata": {},
   "source": [
    "### Training a GNN for Graph Classification¶"
   ]
  },
  {
   "cell_type": "code",
   "execution_count": 99,
   "id": "115a1382",
   "metadata": {},
   "outputs": [],
   "source": [
    "import dgl\n",
    "import torch\n",
    "import torch.nn as nn\n",
    "import torch.nn.functional as F"
   ]
  },
  {
   "cell_type": "code",
   "execution_count": 100,
   "id": "dc0dc6f9",
   "metadata": {},
   "outputs": [],
   "source": [
    "import dgl.data\n",
    "\n",
    "# Generate a synthetic dataset with 10000 graphs, ranging from 10 to 500 nodes.\n",
    "dataset = dgl.data.GINDataset('PROTEINS', self_loop=True)"
   ]
  },
  {
   "cell_type": "code",
   "execution_count": 101,
   "id": "b5dbe460",
   "metadata": {},
   "outputs": [
    {
     "name": "stdout",
     "output_type": "stream",
     "text": [
      "Node feature dimensionality: 3\n",
      "Number of graph categories: 2\n"
     ]
    }
   ],
   "source": [
    "print('Node feature dimensionality:', dataset.dim_nfeats)\n",
    "print('Number of graph categories:', dataset.gclasses)"
   ]
  },
  {
   "cell_type": "code",
   "execution_count": 102,
   "id": "f5d42500",
   "metadata": {},
   "outputs": [],
   "source": [
    "from dgl.dataloading import GraphDataLoader\n",
    "from torch.utils.data.sampler import SubsetRandomSampler\n",
    "\n",
    "num_examples = len(dataset)\n",
    "num_train = int(num_examples * 0.8)\n",
    "\n",
    "train_sampler = SubsetRandomSampler(torch.arange(num_train))\n",
    "test_sampler = SubsetRandomSampler(torch.arange(num_train, num_examples))\n",
    "\n",
    "train_dataloader = GraphDataLoader(\n",
    "    dataset, sampler=train_sampler, batch_size=5, drop_last=False)\n",
    "test_dataloader = GraphDataLoader(\n",
    "    dataset, sampler=test_sampler, batch_size=5, drop_last=False)"
   ]
  },
  {
   "cell_type": "code",
   "execution_count": 103,
   "id": "1342b7e3",
   "metadata": {},
   "outputs": [
    {
     "name": "stdout",
     "output_type": "stream",
     "text": [
      "[Graph(num_nodes=125, num_edges=617,\n",
      "      ndata_schemes={'attr': Scheme(shape=(3,), dtype=torch.float32), 'label': Scheme(shape=(), dtype=torch.int64)}\n",
      "      edata_schemes={}), tensor([0, 0, 1, 1, 0])]\n"
     ]
    }
   ],
   "source": [
    "it = iter(train_dataloader)\n",
    "batch = next(it)\n",
    "print(batch)"
   ]
  },
  {
   "attachments": {},
   "cell_type": "markdown",
   "id": "7a189919",
   "metadata": {},
   "source": [
    "##### A Batched Graph in DGL¶"
   ]
  },
  {
   "cell_type": "code",
   "execution_count": 104,
   "id": "e6b39840",
   "metadata": {},
   "outputs": [
    {
     "name": "stdout",
     "output_type": "stream",
     "text": [
      "Number of nodes for each graph element in the batch: tensor([14, 30, 24, 17, 40])\n",
      "Number of edges for each graph element in the batch: tensor([ 70, 162, 100,  85, 200])\n",
      "The original graphs in the minibatch:\n",
      "[Graph(num_nodes=14, num_edges=70,\n",
      "      ndata_schemes={'attr': Scheme(shape=(3,), dtype=torch.float32), 'label': Scheme(shape=(), dtype=torch.int64)}\n",
      "      edata_schemes={}), Graph(num_nodes=30, num_edges=162,\n",
      "      ndata_schemes={'attr': Scheme(shape=(3,), dtype=torch.float32), 'label': Scheme(shape=(), dtype=torch.int64)}\n",
      "      edata_schemes={}), Graph(num_nodes=24, num_edges=100,\n",
      "      ndata_schemes={'attr': Scheme(shape=(3,), dtype=torch.float32), 'label': Scheme(shape=(), dtype=torch.int64)}\n",
      "      edata_schemes={}), Graph(num_nodes=17, num_edges=85,\n",
      "      ndata_schemes={'attr': Scheme(shape=(3,), dtype=torch.float32), 'label': Scheme(shape=(), dtype=torch.int64)}\n",
      "      edata_schemes={}), Graph(num_nodes=40, num_edges=200,\n",
      "      ndata_schemes={'attr': Scheme(shape=(3,), dtype=torch.float32), 'label': Scheme(shape=(), dtype=torch.int64)}\n",
      "      edata_schemes={})]\n"
     ]
    }
   ],
   "source": [
    "batched_graph, labels = batch\n",
    "print('Number of nodes for each graph element in the batch:', batched_graph.batch_num_nodes())\n",
    "print('Number of edges for each graph element in the batch:', batched_graph.batch_num_edges())\n",
    "\n",
    "# Recover the original graph elements from the minibatch\n",
    "graphs = dgl.unbatch(batched_graph)\n",
    "print('The original graphs in the minibatch:')\n",
    "print(graphs)"
   ]
  },
  {
   "cell_type": "code",
   "execution_count": 105,
   "id": "495e0639",
   "metadata": {},
   "outputs": [],
   "source": [
    "from dgl.nn import GraphConv\n",
    "\n",
    "class GCN(nn.Module):\n",
    "    def __init__(self, in_feats, h_feats, num_classes):\n",
    "        super(GCN, self).__init__()\n",
    "        self.conv1 = GraphConv(in_feats, h_feats)\n",
    "        self.conv2 = GraphConv(h_feats, num_classes)\n",
    "\n",
    "    def forward(self, g, in_feat):\n",
    "        h = self.conv1(g, in_feat)\n",
    "        h = F.relu(h)\n",
    "        h = self.conv2(g, h)\n",
    "        g.ndata['h'] = h\n",
    "        return dgl.mean_nodes(g, 'h')"
   ]
  },
  {
   "cell_type": "code",
   "execution_count": 106,
   "id": "e7210cec",
   "metadata": {},
   "outputs": [
    {
     "name": "stdout",
     "output_type": "stream",
     "text": [
      "Test accuracy: 0.3004484304932735\n"
     ]
    }
   ],
   "source": [
    "# Create the model with given dimensions\n",
    "model = GCN(dataset.dim_nfeats, 16, dataset.gclasses)\n",
    "optimizer = torch.optim.Adam(model.parameters(), lr=0.01)\n",
    "\n",
    "for epoch in range(20):\n",
    "    for batched_graph, labels in train_dataloader:\n",
    "        pred = model(batched_graph, batched_graph.ndata['attr'].float())\n",
    "        loss = F.cross_entropy(pred, labels)\n",
    "        optimizer.zero_grad()\n",
    "        loss.backward()\n",
    "        optimizer.step()\n",
    "\n",
    "num_correct = 0\n",
    "num_tests = 0\n",
    "for batched_graph, labels in test_dataloader:\n",
    "    pred = model(batched_graph, batched_graph.ndata['attr'].float())\n",
    "    num_correct += (pred.argmax(1) == labels).sum().item()\n",
    "    num_tests += len(labels)\n",
    "\n",
    "print('Test accuracy:', num_correct / num_tests)"
   ]
  },
  {
   "attachments": {},
   "cell_type": "markdown",
   "id": "cf25ae7f",
   "metadata": {},
   "source": [
    "#### Make Your Own Dataset¶"
   ]
  },
  {
   "cell_type": "code",
   "execution_count": 107,
   "id": "a13336cd",
   "metadata": {},
   "outputs": [
    {
     "data": {
      "text/html": [
       "<div>\n",
       "<style scoped>\n",
       "    .dataframe tbody tr th:only-of-type {\n",
       "        vertical-align: middle;\n",
       "    }\n",
       "\n",
       "    .dataframe tbody tr th {\n",
       "        vertical-align: top;\n",
       "    }\n",
       "\n",
       "    .dataframe thead th {\n",
       "        text-align: right;\n",
       "    }\n",
       "</style>\n",
       "<table border=\"1\" class=\"dataframe\">\n",
       "  <thead>\n",
       "    <tr style=\"text-align: right;\">\n",
       "      <th></th>\n",
       "      <th>Src</th>\n",
       "      <th>Dst</th>\n",
       "      <th>Weight</th>\n",
       "    </tr>\n",
       "  </thead>\n",
       "  <tbody>\n",
       "    <tr>\n",
       "      <th>0</th>\n",
       "      <td>0</td>\n",
       "      <td>1</td>\n",
       "      <td>0.043591</td>\n",
       "    </tr>\n",
       "    <tr>\n",
       "      <th>1</th>\n",
       "      <td>0</td>\n",
       "      <td>2</td>\n",
       "      <td>0.282119</td>\n",
       "    </tr>\n",
       "    <tr>\n",
       "      <th>2</th>\n",
       "      <td>0</td>\n",
       "      <td>3</td>\n",
       "      <td>0.370293</td>\n",
       "    </tr>\n",
       "    <tr>\n",
       "      <th>3</th>\n",
       "      <td>0</td>\n",
       "      <td>4</td>\n",
       "      <td>0.730570</td>\n",
       "    </tr>\n",
       "    <tr>\n",
       "      <th>4</th>\n",
       "      <td>0</td>\n",
       "      <td>5</td>\n",
       "      <td>0.821187</td>\n",
       "    </tr>\n",
       "  </tbody>\n",
       "</table>\n",
       "</div>"
      ],
      "text/plain": [
       "   Src  Dst    Weight\n",
       "0    0    1  0.043591\n",
       "1    0    2  0.282119\n",
       "2    0    3  0.370293\n",
       "3    0    4  0.730570\n",
       "4    0    5  0.821187"
      ]
     },
     "execution_count": 107,
     "metadata": {},
     "output_type": "execute_result"
    }
   ],
   "source": [
    "import urllib.request\n",
    "import pandas as pd\n",
    "urllib.request.urlretrieve(\n",
    "    'https://data.dgl.ai/tutorial/dataset/members.csv', './members.csv')\n",
    "urllib.request.urlretrieve(\n",
    "    'https://data.dgl.ai/tutorial/dataset/interactions.csv', './interactions.csv')\n",
    "\n",
    "members = pd.read_csv('./members.csv')\n",
    "members.head()\n",
    "\n",
    "interactions = pd.read_csv('./interactions.csv')\n",
    "interactions.head()"
   ]
  },
  {
   "cell_type": "code",
   "execution_count": 108,
   "id": "5a7cc12e",
   "metadata": {},
   "outputs": [
    {
     "name": "stdout",
     "output_type": "stream",
     "text": [
      "Graph(num_nodes=34, num_edges=156,\n",
      "      ndata_schemes={'feat': Scheme(shape=(), dtype=torch.int64), 'label': Scheme(shape=(), dtype=torch.int8), 'train_mask': Scheme(shape=(), dtype=torch.bool), 'val_mask': Scheme(shape=(), dtype=torch.bool), 'test_mask': Scheme(shape=(), dtype=torch.bool)}\n",
      "      edata_schemes={'weight': Scheme(shape=(), dtype=torch.float64)})\n"
     ]
    },
    {
     "name": "stderr",
     "output_type": "stream",
     "text": [
      "/var/folders/_p/84b9pkm51s74vx6gr3q75qlm0000gn/T/ipykernel_1252/2273514894.py:14: UserWarning: The given NumPy array is not writable, and PyTorch does not support non-writable tensors. This means writing to this tensor will result in undefined behavior. You may want to copy the array to protect its data or make it writable before converting it to a tensor. This type of warning will be suppressed for the rest of this program. (Triggered internally at /Users/runner/work/_temp/anaconda/conda-bld/pytorch_1670525498485/work/torch/csrc/utils/tensor_numpy.cpp:205.)\n",
      "  node_labels = torch.from_numpy(nodes_data['Club'].astype('category').cat.codes.to_numpy())\n"
     ]
    }
   ],
   "source": [
    "import dgl\n",
    "from dgl.data import DGLDataset\n",
    "import torch\n",
    "import os\n",
    "\n",
    "class KarateClubDataset(DGLDataset):\n",
    "    def __init__(self):\n",
    "        super().__init__(name='karate_club')\n",
    "\n",
    "    def process(self):\n",
    "        nodes_data = pd.read_csv('./members.csv')\n",
    "        edges_data = pd.read_csv('./interactions.csv')\n",
    "        node_features = torch.from_numpy(nodes_data['Age'].to_numpy())\n",
    "        node_labels = torch.from_numpy(nodes_data['Club'].astype('category').cat.codes.to_numpy())\n",
    "        edge_features = torch.from_numpy(edges_data['Weight'].to_numpy())\n",
    "        edges_src = torch.from_numpy(edges_data['Src'].to_numpy())\n",
    "        edges_dst = torch.from_numpy(edges_data['Dst'].to_numpy())\n",
    "\n",
    "        self.graph = dgl.graph((edges_src, edges_dst), num_nodes=nodes_data.shape[0])\n",
    "        self.graph.ndata['feat'] = node_features\n",
    "        self.graph.ndata['label'] = node_labels\n",
    "        self.graph.edata['weight'] = edge_features\n",
    "\n",
    "        # If your dataset is a node classification dataset, you will need to assign\n",
    "        # masks indicating whether a node belongs to training, validation, and test set.\n",
    "        n_nodes = nodes_data.shape[0]\n",
    "        n_train = int(n_nodes * 0.6)\n",
    "        n_val = int(n_nodes * 0.2)\n",
    "        train_mask = torch.zeros(n_nodes, dtype=torch.bool)\n",
    "        val_mask = torch.zeros(n_nodes, dtype=torch.bool)\n",
    "        test_mask = torch.zeros(n_nodes, dtype=torch.bool)\n",
    "        train_mask[:n_train] = True\n",
    "        val_mask[n_train:n_train + n_val] = True\n",
    "        test_mask[n_train + n_val:] = True\n",
    "        self.graph.ndata['train_mask'] = train_mask\n",
    "        self.graph.ndata['val_mask'] = val_mask\n",
    "        self.graph.ndata['test_mask'] = test_mask\n",
    "\n",
    "    def __getitem__(self, i):\n",
    "        return self.graph\n",
    "\n",
    "    def __len__(self):\n",
    "        return 1\n",
    "\n",
    "dataset = KarateClubDataset()\n",
    "graph = dataset[0]\n",
    "\n",
    "print(graph)"
   ]
  },
  {
   "cell_type": "code",
   "execution_count": 109,
   "id": "008d66ce",
   "metadata": {},
   "outputs": [
    {
     "name": "stdout",
     "output_type": "stream",
     "text": [
      "Graph(num_nodes=15, num_edges=45,\n",
      "      ndata_schemes={}\n",
      "      edata_schemes={}) tensor(0)\n"
     ]
    }
   ],
   "source": [
    "#Creating a Dataset for Graph Classification from CSV¶\n",
    "urllib.request.urlretrieve(\n",
    "    'https://data.dgl.ai/tutorial/dataset/graph_edges.csv', './graph_edges.csv')\n",
    "urllib.request.urlretrieve(\n",
    "    'https://data.dgl.ai/tutorial/dataset/graph_properties.csv', './graph_properties.csv')\n",
    "edges = pd.read_csv('./graph_edges.csv')\n",
    "properties = pd.read_csv('./graph_properties.csv')\n",
    "\n",
    "edges.head()\n",
    "\n",
    "properties.head()\n",
    "\n",
    "class SyntheticDataset(DGLDataset):\n",
    "    def __init__(self):\n",
    "        super().__init__(name='synthetic')\n",
    "\n",
    "    def process(self):\n",
    "        edges = pd.read_csv('./graph_edges.csv')\n",
    "        properties = pd.read_csv('./graph_properties.csv')\n",
    "        self.graphs = []\n",
    "        self.labels = []\n",
    "\n",
    "        # Create a graph for each graph ID from the edges table.\n",
    "        # First process the properties table into two dictionaries with graph IDs as keys.\n",
    "        # The label and number of nodes are values.\n",
    "        label_dict = {}\n",
    "        num_nodes_dict = {}\n",
    "        for _, row in properties.iterrows():\n",
    "            label_dict[row['graph_id']] = row['label']\n",
    "            num_nodes_dict[row['graph_id']] = row['num_nodes']\n",
    "\n",
    "        # For the edges, first group the table by graph IDs.\n",
    "        edges_group = edges.groupby('graph_id')\n",
    "\n",
    "        # For each graph ID...\n",
    "        for graph_id in edges_group.groups:\n",
    "            # Find the edges as well as the number of nodes and its label.\n",
    "            edges_of_id = edges_group.get_group(graph_id)\n",
    "            src = edges_of_id['src'].to_numpy()\n",
    "            dst = edges_of_id['dst'].to_numpy()\n",
    "            num_nodes = num_nodes_dict[graph_id]\n",
    "            label = label_dict[graph_id]\n",
    "\n",
    "            # Create a graph and add it to the list of graphs and labels.\n",
    "            g = dgl.graph((src, dst), num_nodes=num_nodes)\n",
    "            self.graphs.append(g)\n",
    "            self.labels.append(label)\n",
    "\n",
    "        # Convert the label list to tensor for saving.\n",
    "        self.labels = torch.LongTensor(self.labels)\n",
    "\n",
    "    def __getitem__(self, i):\n",
    "        return self.graphs[i], self.labels[i]\n",
    "\n",
    "    def __len__(self):\n",
    "        return len(self.graphs)\n",
    "\n",
    "dataset = SyntheticDataset()\n",
    "graph, label = dataset[0]\n",
    "print(graph, label)"
   ]
  },
  {
   "cell_type": "markdown",
   "id": "36a25269",
   "metadata": {},
   "source": [
    "### REVISITING NODES\n"
   ]
  },
  {
   "cell_type": "code",
   "execution_count": 112,
   "id": "5ee6b53d",
   "metadata": {},
   "outputs": [
    {
     "data": {
      "text/plain": [
       "Graph(num_nodes=10, num_edges=4,\n",
       "      ndata_schemes={}\n",
       "      edata_schemes={})"
      ]
     },
     "execution_count": 112,
     "metadata": {},
     "output_type": "execute_result"
    }
   ],
   "source": [
    "g = dgl.graph(([0,0,0,0],[1,2,3,4]),num_nodes=10)\n",
    "g"
   ]
  },
  {
   "cell_type": "code",
   "execution_count": 113,
   "id": "45fcccd1",
   "metadata": {},
   "outputs": [
    {
     "data": {
      "image/png": "[encoded data removed]",
      "text/plain": [
       "<Figure size 640x480 with 1 Axes>"
      ]
     },
     "metadata": {},
     "output_type": "display_data"
    }
   ],
   "source": [
    "drawnx(g)"
   ]
  },
  {
   "cell_type": "code",
   "execution_count": 117,
   "id": "12f776cd",
   "metadata": {},
   "outputs": [
    {
     "data": {
      "text/plain": [
       "tensor([0, 1, 2, 3, 4, 5, 6, 7, 8, 9])"
      ]
     },
     "execution_count": 117,
     "metadata": {},
     "output_type": "execute_result"
    }
   ],
   "source": [
    "g.nodes()"
   ]
  },
  {
   "cell_type": "code",
   "execution_count": 120,
   "id": "28435acc",
   "metadata": {},
   "outputs": [
    {
     "data": {
      "text/plain": [
       "tensor([[-1.0172,  0.9219,  1.3471],\n",
       "        [-1.0445,  0.4890, -0.6445],\n",
       "        [ 0.4089,  0.0830,  0.4329],\n",
       "        [ 0.1190,  0.7822,  0.3480],\n",
       "        [-0.2731,  0.9629,  1.7686],\n",
       "        [ 1.0650,  1.3880, -0.6544]])"
      ]
     },
     "execution_count": 120,
     "metadata": {},
     "output_type": "execute_result"
    }
   ],
   "source": [
    "torch.randn(6,3)"
   ]
  },
  {
   "cell_type": "code",
   "execution_count": 123,
   "id": "8455d0f5",
   "metadata": {},
   "outputs": [
    {
     "data": {
      "text/plain": [
       "4"
      ]
     },
     "execution_count": 123,
     "metadata": {},
     "output_type": "execute_result"
    }
   ],
   "source": [
    "g.num_edges()"
   ]
  },
  {
   "cell_type": "code",
   "execution_count": 125,
   "id": "5ce9edb3",
   "metadata": {},
   "outputs": [],
   "source": [
    "g.ndata['x']=torch.randn(10,4)\n",
    "g.ndata['y']=torch.randn(10,3)#Node and edge features in DGL can be multi-dimensional."
   ]
  },
  {
   "cell_type": "code",
   "execution_count": 128,
   "id": "7114646f",
   "metadata": {},
   "outputs": [
    {
     "data": {
      "image/png": "[encoded data removed]",
      "text/plain": [
       "<Figure size 640x480 with 1 Axes>"
      ]
     },
     "metadata": {},
     "output_type": "display_data"
    }
   ],
   "source": [
    "drawnx(g)"
   ]
  },
  {
   "cell_type": "code",
   "execution_count": 130,
   "id": "85321185",
   "metadata": {},
   "outputs": [
    {
     "data": {
      "text/plain": [
       "tensor([[ 0.4578, -0.4756,  0.4712],\n",
       "        [-0.8255,  0.2319, -1.2172],\n",
       "        [-0.3333,  0.0899,  0.2171],\n",
       "        [-0.1695, -0.5735, -1.2340],\n",
       "        [-0.9209,  0.6294,  0.3897],\n",
       "        [ 0.7087,  0.2831, -0.7393],\n",
       "        [-1.2640, -1.4537,  1.2798],\n",
       "        [-0.2167, -0.7145, -0.3072],\n",
       "        [ 0.3174, -0.2575, -0.3264],\n",
       "        [-1.3049,  0.0156,  0.9956]])"
      ]
     },
     "execution_count": 130,
     "metadata": {},
     "output_type": "execute_result"
    }
   ],
   "source": [
    "g.ndata['y']"
   ]
  },
  {
   "cell_type": "code",
   "execution_count": 132,
   "id": "202b220c",
   "metadata": {},
   "outputs": [
    {
     "data": {
      "text/plain": [
       "0"
      ]
     },
     "execution_count": 132,
     "metadata": {},
     "output_type": "execute_result"
    }
   ],
   "source": [
    "g.in_degrees(0)"
   ]
  },
  {
   "cell_type": "code",
   "execution_count": 133,
   "id": "c10aa083",
   "metadata": {},
   "outputs": [
    {
     "data": {
      "text/plain": [
       "4"
      ]
     },
     "execution_count": 133,
     "metadata": {},
     "output_type": "execute_result"
    }
   ],
   "source": [
    "g.out_degrees(0)"
   ]
  },
  {
   "cell_type": "code",
   "execution_count": 134,
   "id": "db2f425f",
   "metadata": {},
   "outputs": [
    {
     "data": {
      "text/plain": [
       "Graph(num_nodes=10, num_edges=4,\n",
       "      ndata_schemes={'x': Scheme(shape=(4,), dtype=torch.float32), 'y': Scheme(shape=(3,), dtype=torch.float32)}\n",
       "      edata_schemes={})"
      ]
     },
     "execution_count": 134,
     "metadata": {},
     "output_type": "execute_result"
    }
   ],
   "source": [
    "g"
   ]
  },
  {
   "cell_type": "code",
   "execution_count": null,
   "id": "ea982359",
   "metadata": {},
   "outputs": [],
   "source": [
    "dgl.from_networkx(nx.p)"
   ]
  }
 ],
 "metadata": {
  "kernelspec": {
   "display_name": "gnnnlp2",
   "language": "python",
   "name": "gnnnlp2"
  },
  "language_info": {
   "codemirror_mode": {
    "name": "ipython",
    "version": 3
   },
   "file_extension": ".py",
   "mimetype": "text/x-python",
   "name": "python",
   "nbconvert_exporter": "python",
   "pygments_lexer": "ipython3",
   "version": "3.10.0 (default, Mar  3 2022, 03:54:28) [Clang 12.0.0 ]"
  }
 },
 "nbformat": 4,
 "nbformat_minor": 5
}
