{
 "cells": [
  {
   "attachments": {},
   "cell_type": "markdown",
   "metadata": {},
   "source": [
    "###### source - https://github.com/prodramp/DeepWorks/blob/main/PyTorchTutorials/02_NeuralNetworkModel.ipynb"
   ]
  },
  {
   "cell_type": "code",
   "execution_count": null,
   "metadata": {},
   "outputs": [],
   "source": [
    "'''What we will cover in this Notebook:\n",
    "\n",
    "Creating your very first Network Model\n",
    "\n",
    "Understanding input data features to setup correct Network Model\n",
    "\n",
    "Setting network model definition and forward functions'''"
   ]
  },
  {
   "cell_type": "code",
   "execution_count": 2,
   "metadata": {},
   "outputs": [],
   "source": [
    "#nn.Module\n",
    "#Base class for all neural network modules.\n",
    "#Your models should also subclass this class.\n",
    "\n",
    "import torch\n",
    "import torch.nn as nn"
   ]
  },
  {
   "cell_type": "code",
   "execution_count": 4,
   "metadata": {},
   "outputs": [],
   "source": [
    "'''Define your Neural Network Model:\n",
    "\n",
    "Class based on nn.Module\n",
    "The init part has all the layers defined in the NN model\n",
    "The forward() method defined how the data flows from one layer to another inside the network\n",
    "'''\n",
    "class MyFirstNeuralNetwork(nn.Module):\n",
    "    def __init__(self) -> None:\n",
    "        super().__init__()\n",
    "\n",
    "    def forward(self, x):\n",
    "        return x    "
   ]
  },
  {
   "cell_type": "code",
   "execution_count": 5,
   "metadata": {},
   "outputs": [
    {
     "data": {
      "text/plain": [
       "MyFirstNeuralNetwork()"
      ]
     },
     "execution_count": 5,
     "metadata": {},
     "output_type": "execute_result"
    }
   ],
   "source": [
    "#Instantiate your model:\n",
    "model = MyFirstNeuralNetwork()\n",
    "model"
   ]
  },
  {
   "cell_type": "code",
   "execution_count": 8,
   "metadata": {},
   "outputs": [
    {
     "name": "stdout",
     "output_type": "stream",
     "text": [
      "torch.Size([10, 5])\n",
      "torch.float32\n",
      "<built-in method size of Tensor object at 0x12c100270>\n",
      "tensor([[ 2.2871e-01,  4.7181e-01,  2.7124e+00,  2.0410e-01,  2.1363e+00],\n",
      "        [ 8.7453e-01,  1.4463e+00,  3.5935e-01, -3.8024e-01,  6.9212e-01],\n",
      "        [ 4.0861e-01, -1.9850e+00, -1.4377e-01, -4.7568e-01, -1.9533e-01],\n",
      "        [ 6.8606e-01,  5.3805e-01,  1.6259e+00, -1.8319e-01,  1.2765e+00],\n",
      "        [-7.6439e-01, -3.4909e-01,  1.1783e+00, -1.7080e+00, -1.3199e+00],\n",
      "        [-2.7450e-01,  5.6476e-01,  1.4174e-02,  1.0726e+00, -1.2723e+00],\n",
      "        [-1.4385e+00, -2.8313e-01,  9.1117e-01,  1.1419e+00,  1.1823e-01],\n",
      "        [-2.9951e-03,  1.9923e+00,  7.7584e-01,  6.8992e-06, -4.5194e-01],\n",
      "        [-1.5148e+00,  2.1646e-01,  1.2016e-01, -2.2368e-01,  3.4612e-01],\n",
      "        [ 1.2682e-01, -2.5826e-01, -1.3596e+00,  1.2420e+00,  4.9240e-01]])\n"
     ]
    }
   ],
   "source": [
    "#Define your input tensor data:\n",
    "t = torch.randn(10,5)\n",
    "print(t.shape)\n",
    "print(t.dtype)\n",
    "print(t.size)\n",
    "print(t)"
   ]
  },
  {
   "cell_type": "code",
   "execution_count": 9,
   "metadata": {},
   "outputs": [
    {
     "data": {
      "text/plain": [
       "tensor([[ 2.2871e-01,  4.7181e-01,  2.7124e+00,  2.0410e-01,  2.1363e+00],\n",
       "        [ 8.7453e-01,  1.4463e+00,  3.5935e-01, -3.8024e-01,  6.9212e-01],\n",
       "        [ 4.0861e-01, -1.9850e+00, -1.4377e-01, -4.7568e-01, -1.9533e-01],\n",
       "        [ 6.8606e-01,  5.3805e-01,  1.6259e+00, -1.8319e-01,  1.2765e+00],\n",
       "        [-7.6439e-01, -3.4909e-01,  1.1783e+00, -1.7080e+00, -1.3199e+00],\n",
       "        [-2.7450e-01,  5.6476e-01,  1.4174e-02,  1.0726e+00, -1.2723e+00],\n",
       "        [-1.4385e+00, -2.8313e-01,  9.1117e-01,  1.1419e+00,  1.1823e-01],\n",
       "        [-2.9951e-03,  1.9923e+00,  7.7584e-01,  6.8992e-06, -4.5194e-01],\n",
       "        [-1.5148e+00,  2.1646e-01,  1.2016e-01, -2.2368e-01,  3.4612e-01],\n",
       "        [ 1.2682e-01, -2.5826e-01, -1.3596e+00,  1.2420e+00,  4.9240e-01]])"
      ]
     },
     "execution_count": 9,
     "metadata": {},
     "output_type": "execute_result"
    }
   ],
   "source": [
    "nnm = model(t)\n",
    "nnm     "
   ]
  },
  {
   "cell_type": "code",
   "execution_count": 14,
   "metadata": {},
   "outputs": [
    {
     "name": "stdout",
     "output_type": "stream",
     "text": [
      "<built-in method size of Tensor object at 0x12c100270>\n"
     ]
    }
   ],
   "source": [
    "print(nnm.size)"
   ]
  },
  {
   "cell_type": "code",
   "execution_count": 12,
   "metadata": {},
   "outputs": [
    {
     "data": {
      "text/plain": [
       "torch.Size([10, 5])"
      ]
     },
     "execution_count": 12,
     "metadata": {},
     "output_type": "execute_result"
    }
   ],
   "source": [
    "nnm.shape"
   ]
  },
  {
   "cell_type": "code",
   "execution_count": null,
   "metadata": {},
   "outputs": [],
   "source": [
    "'''Lets connect the model and input data (Tensor) together\n",
    "Concept:\n",
    "    Dataset:\n",
    "    We have 10 records of 5 dimensions\n",
    "    We use 10 records as it is easy to visualize here\n",
    "    Our output class has 2 values True (1) or False (0)\n",
    "    Layers\n",
    "    We will add through experimentation\n",
    "    A network with input and output layers:\n",
    "\n",
    "First (Input and Output) Layer\n",
    "    self.lin1 = nn.Linear(Input_dimensions, output_classes)'''"
   ]
  },
  {
   "cell_type": "code",
   "execution_count": 15,
   "metadata": {},
   "outputs": [],
   "source": [
    "\n",
    "class myFirstNeuralNetworkModel(nn.Module):\n",
    "  def __init__(self):\n",
    "    super().__init__()\n",
    "    self.linear0 = nn.Linear(5, 2)\n",
    "  def forward(self, x):\n",
    "    x = self.linear0(x)\n",
    "    print(x.shape)\n",
    "    return x"
   ]
  },
  {
   "cell_type": "code",
   "execution_count": 16,
   "metadata": {},
   "outputs": [],
   "source": [
    "'''A Network with N hidden layer(s)\n",
    "\n",
    "First (Input) Layer\n",
    "self.lin1 = nn.Linear(Input_dimensions, input_for_first_hidden_layer)\n",
    "Middle Layers (As many as needed)\n",
    "Must have the matrix manipulations working...\n",
    "Last (Output) Layer\n",
    "self.linX = nn.Linear(output_of_previous_layers, output_classes)'''\n",
    "\n",
    "\n",
    "class myFirstNeuralNetworkModel(nn.Module):\n",
    "  def __init__(self):\n",
    "    super().__init__()\n",
    "    self.linear0 = nn.Linear(5, 10)\n",
    "    self.linear1 = nn.Linear(10, 2)\n",
    "  def forward(self, x):\n",
    "    x = self.linear0(x)\n",
    "    print(x.shape)\n",
    "    x = self.linear1(x)\n",
    "    print(x.shape)\n",
    "    return x"
   ]
  },
  {
   "cell_type": "code",
   "execution_count": 17,
   "metadata": {},
   "outputs": [],
   "source": [
    "\n",
    "class myFirstNeuralNetworkModel(nn.Module):\n",
    "  def __init__(self):\n",
    "    super().__init__()\n",
    "    self.linear0 = nn.Linear(5, 100)\n",
    "    self.linear1 = nn.Linear(100, 10)\n",
    "    self.linear2 = nn.Linear(10, 2)\n",
    "  def forward(self, x):\n",
    "    x = self.linear0(x)\n",
    "    print(x.shape)\n",
    "    x = self.linear1(x + x)\n",
    "    print(x.shape)\n",
    "    x = self.linear2(x + x + x )\n",
    "    print(x.shape)\n",
    "    return x"
   ]
  },
  {
   "cell_type": "code",
   "execution_count": 18,
   "metadata": {},
   "outputs": [],
   "source": [
    "\n",
    "class myFirstNeuralNetworkModel(nn.Module):\n",
    "  def __init__(self):\n",
    "    super().__init__()\n",
    "    self.linear0 = nn.Linear(5, 1000)\n",
    "    self.linear1 = nn.Linear(1000, 100)\n",
    "    self.linear2 = nn.Linear(100, 10)\n",
    "    self.linear3 = nn.Linear(10, 2)\n",
    "  def forward(self, x):\n",
    "    x = self.linear0(x)\n",
    "    print(x.shape)\n",
    "    x = self.linear1(x)\n",
    "    print(x.shape)\n",
    "    x = self.linear2(x)\n",
    "    print(x.shape)\n",
    "    x = self.linear3(x)\n",
    "    print(x.shape)\n",
    "    return x"
   ]
  },
  {
   "cell_type": "code",
   "execution_count": 19,
   "metadata": {},
   "outputs": [],
   "source": [
    "##Lets Experiment with out Neural Network with various Hidden Layers\n",
    "\n",
    "class myFirstNeuralNetworkModel(nn.Module):\n",
    "  def __init__(self):\n",
    "    super().__init__()\n",
    "    # first layer takes the input  of size 5 and \n",
    "    ## First layer INPUT parameter shows the number of dimensions in your data as input to the network\n",
    "    self.linear1 = nn.Linear(5, 10)\n",
    "    self.linear2 = nn.Linear(10, 100)\n",
    "    self.linear3 = nn.Linear(100, 100)\n",
    "    self.linear4 = nn.Linear(100, 10)\n",
    "    self.linear5 = nn.Linear(10, 2) \n",
    "    ## Last layer OUT parameter shows the number of outputs in your nerual network\n",
    "  def forward(self, x):\n",
    "    #This model connect the layer outputs in the forward pass\n",
    "    x1 = self.linear1(x)\n",
    "    print(x.shape)\n",
    "    x = self.linear2(x1)\n",
    "    print(x.shape)\n",
    "    x = self.linear3(x) + self.linear2(x1)\n",
    "    print(x.shape)\n",
    "    x = self.linear4(x)\n",
    "    print(x.shape)\n",
    "    x = self.linear5(x) \n",
    "    print(x.shape)\n",
    "    return x"
   ]
  },
  {
   "cell_type": "code",
   "execution_count": 28,
   "metadata": {},
   "outputs": [
    {
     "name": "stdout",
     "output_type": "stream",
     "text": [
      "torch.Size([10, 5])\n",
      "torch.float32\n",
      "<built-in method size of Tensor object at 0x12c103ba0>\n",
      "tensor([[0., 0., 0., 0., 0.],\n",
      "        [0., 0., 0., 0., 0.],\n",
      "        [0., 0., 0., 0., 0.],\n",
      "        [0., 0., 0., 0., 0.],\n",
      "        [0., 0., 0., 0., 0.],\n",
      "        [0., 0., 0., 0., 0.],\n",
      "        [0., 0., 0., 0., 0.],\n",
      "        [0., 0., 0., 0., 0.],\n",
      "        [0., 0., 0., 0., 0.],\n",
      "        [0., 0., 0., 0., 0.]])\n"
     ]
    }
   ],
   "source": [
    "\n",
    "# t = torch.randn(10, 5)\n",
    "#t = torch.ones(10, 5)\n",
    "t = torch.zeros(10, 5)\n",
    "\n",
    "print(t.shape)\n",
    "print(t.dtype)\n",
    "print(t.size)\n",
    "print(t)"
   ]
  },
  {
   "cell_type": "code",
   "execution_count": 29,
   "metadata": {},
   "outputs": [
    {
     "name": "stdout",
     "output_type": "stream",
     "text": [
      "torch.Size([10, 5])\n",
      "torch.Size([10, 100])\n",
      "torch.Size([10, 100])\n",
      "torch.Size([10, 10])\n",
      "torch.Size([10, 2])\n"
     ]
    }
   ],
   "source": [
    "\n",
    "model = myFirstNeuralNetworkModel()\n",
    "n = model(t)"
   ]
  },
  {
   "cell_type": "code",
   "execution_count": 30,
   "metadata": {},
   "outputs": [
    {
     "name": "stdout",
     "output_type": "stream",
     "text": [
      "<built-in method size of Tensor object at 0x12f002d40>\n",
      "torch.Size([10, 2])\n",
      "tensor([[ 0.2291, -0.3464],\n",
      "        [ 0.2291, -0.3464],\n",
      "        [ 0.2291, -0.3464],\n",
      "        [ 0.2291, -0.3464],\n",
      "        [ 0.2291, -0.3464],\n",
      "        [ 0.2291, -0.3464],\n",
      "        [ 0.2291, -0.3464],\n",
      "        [ 0.2291, -0.3464],\n",
      "        [ 0.2291, -0.3464],\n",
      "        [ 0.2291, -0.3464]], grad_fn=<AddmmBackward0>)\n"
     ]
    }
   ],
   "source": [
    "\n",
    "print(n.size)\n",
    "print(n.shape)\n",
    "print(n)"
   ]
  },
  {
   "cell_type": "code",
   "execution_count": 22,
   "metadata": {},
   "outputs": [],
   "source": [
    "from torchviz import make_dot"
   ]
  },
  {
   "cell_type": "code",
   "execution_count": 25,
   "metadata": {},
   "outputs": [
    {
     "data": {
      "image/svg+xml": "<?xml version=\"1.0\" encoding=\"UTF-8\" standalone=\"no\"?>\n<!DOCTYPE svg PUBLIC \"-//W3C//DTD SVG 1.1//EN\"\n \"http://www.w3.org/Graphics/SVG/1.1/DTD/svg11.dtd\">\n<!-- Generated by graphviz version 2.50.0 (0)\n -->\n<!-- Pages: 1 -->\n<svg width=\"755pt\" height=\"666pt\"\n viewBox=\"0.00 0.00 755.00 666.00\" xmlns=\"http://www.w3.org/2000/svg\" xmlns:xlink=\"http://www.w3.org/1999/xlink\">\n<g id=\"graph0\" class=\"graph\" transform=\"scale(1 1) rotate(0) translate(4 662)\">\n<polygon fill=\"white\" stroke=\"transparent\" points=\"-4,4 -4,-662 751,-662 751,4 -4,4\"/>\n<!-- 5034229120 -->\n<g id=\"node1\" class=\"node\">\n<title>5034229120</title>\n<polygon fill=\"#caff70\" stroke=\"black\" points=\"286.5,-31 232.5,-31 232.5,0 286.5,0 286.5,-31\"/>\n<text text-anchor=\"middle\" x=\"259.5\" y=\"-7\" font-family=\"monospace\" font-size=\"10.00\"> ()</text>\n</g>\n<!-- 5036763472 -->\n<g id=\"node2\" class=\"node\">\n<title>5036763472</title>\n<polygon fill=\"lightgrey\" stroke=\"black\" points=\"307,-86 212,-86 212,-67 307,-67 307,-86\"/>\n<text text-anchor=\"middle\" x=\"259.5\" y=\"-74\" font-family=\"monospace\" font-size=\"10.00\">MeanBackward0</text>\n</g>\n<!-- 5036763472&#45;&gt;5034229120 -->\n<g id=\"edge37\" class=\"edge\">\n<title>5036763472&#45;&gt;5034229120</title>\n<path fill=\"none\" stroke=\"black\" d=\"M259.5,-66.79C259.5,-60.07 259.5,-50.4 259.5,-41.34\"/>\n<polygon fill=\"black\" stroke=\"black\" points=\"263,-41.19 259.5,-31.19 256,-41.19 263,-41.19\"/>\n</g>\n<!-- 5035496672 -->\n<g id=\"node3\" class=\"node\">\n<title>5035496672</title>\n<polygon fill=\"lightgrey\" stroke=\"black\" points=\"310,-141 209,-141 209,-122 310,-122 310,-141\"/>\n<text text-anchor=\"middle\" x=\"259.5\" y=\"-129\" font-family=\"monospace\" font-size=\"10.00\">AddmmBackward0</text>\n</g>\n<!-- 5035496672&#45;&gt;5036763472 -->\n<g id=\"edge1\" class=\"edge\">\n<title>5035496672&#45;&gt;5036763472</title>\n<path fill=\"none\" stroke=\"black\" d=\"M259.5,-121.75C259.5,-114.8 259.5,-104.85 259.5,-96.13\"/>\n<polygon fill=\"black\" stroke=\"black\" points=\"263,-96.09 259.5,-86.09 256,-96.09 263,-96.09\"/>\n</g>\n<!-- 5035504064 -->\n<g id=\"node4\" class=\"node\">\n<title>5035504064</title>\n<polygon fill=\"lightgrey\" stroke=\"black\" points=\"147,-196 46,-196 46,-177 147,-177 147,-196\"/>\n<text text-anchor=\"middle\" x=\"96.5\" y=\"-184\" font-family=\"monospace\" font-size=\"10.00\">AccumulateGrad</text>\n</g>\n<!-- 5035504064&#45;&gt;5035496672 -->\n<g id=\"edge2\" class=\"edge\">\n<title>5035504064&#45;&gt;5035496672</title>\n<path fill=\"none\" stroke=\"black\" d=\"M122.69,-176.98C149.94,-168.13 192.8,-154.19 223.28,-144.28\"/>\n<polygon fill=\"black\" stroke=\"black\" points=\"224.68,-147.5 233.11,-141.08 222.51,-140.85 224.68,-147.5\"/>\n</g>\n<!-- 5034228400 -->\n<g id=\"node5\" class=\"node\">\n<title>5034228400</title>\n<polygon fill=\"lightblue\" stroke=\"black\" points=\"96,-262 7,-262 7,-232 96,-232 96,-262\"/>\n<text text-anchor=\"middle\" x=\"51.5\" y=\"-250\" font-family=\"monospace\" font-size=\"10.00\">linear5.bias</text>\n<text text-anchor=\"middle\" x=\"51.5\" y=\"-239\" font-family=\"monospace\" font-size=\"10.00\"> (2)</text>\n</g>\n<!-- 5034228400&#45;&gt;5035504064 -->\n<g id=\"edge3\" class=\"edge\">\n<title>5034228400&#45;&gt;5035504064</title>\n<path fill=\"none\" stroke=\"black\" d=\"M62.39,-231.84C68.79,-223.52 76.92,-212.96 83.63,-204.23\"/>\n<polygon fill=\"black\" stroke=\"black\" points=\"86.43,-206.33 89.76,-196.27 80.89,-202.06 86.43,-206.33\"/>\n</g>\n<!-- 5035496048 -->\n<g id=\"node6\" class=\"node\">\n<title>5035496048</title>\n<polygon fill=\"lightgrey\" stroke=\"black\" points=\"310,-196 209,-196 209,-177 310,-177 310,-196\"/>\n<text text-anchor=\"middle\" x=\"259.5\" y=\"-184\" font-family=\"monospace\" font-size=\"10.00\">AddmmBackward0</text>\n</g>\n<!-- 5035496048&#45;&gt;5035496672 -->\n<g id=\"edge4\" class=\"edge\">\n<title>5035496048&#45;&gt;5035496672</title>\n<path fill=\"none\" stroke=\"black\" d=\"M259.5,-176.75C259.5,-169.8 259.5,-159.85 259.5,-151.13\"/>\n<polygon fill=\"black\" stroke=\"black\" points=\"263,-151.09 259.5,-141.09 256,-151.09 263,-151.09\"/>\n</g>\n<!-- 5036840832 -->\n<g id=\"node7\" class=\"node\">\n<title>5036840832</title>\n<polygon fill=\"lightgrey\" stroke=\"black\" points=\"310,-256.5 209,-256.5 209,-237.5 310,-237.5 310,-256.5\"/>\n<text text-anchor=\"middle\" x=\"259.5\" y=\"-244.5\" font-family=\"monospace\" font-size=\"10.00\">AccumulateGrad</text>\n</g>\n<!-- 5036840832&#45;&gt;5035496048 -->\n<g id=\"edge5\" class=\"edge\">\n<title>5036840832&#45;&gt;5035496048</title>\n<path fill=\"none\" stroke=\"black\" d=\"M259.5,-237.37C259.5,-229.25 259.5,-216.81 259.5,-206.39\"/>\n<polygon fill=\"black\" stroke=\"black\" points=\"263,-206.17 259.5,-196.17 256,-206.17 263,-206.17\"/>\n</g>\n<!-- 5034227680 -->\n<g id=\"node8\" class=\"node\">\n<title>5034227680</title>\n<polygon fill=\"lightblue\" stroke=\"black\" points=\"304,-328 215,-328 215,-298 304,-298 304,-328\"/>\n<text text-anchor=\"middle\" x=\"259.5\" y=\"-316\" font-family=\"monospace\" font-size=\"10.00\">linear4.bias</text>\n<text text-anchor=\"middle\" x=\"259.5\" y=\"-305\" font-family=\"monospace\" font-size=\"10.00\"> (10)</text>\n</g>\n<!-- 5034227680&#45;&gt;5036840832 -->\n<g id=\"edge6\" class=\"edge\">\n<title>5034227680&#45;&gt;5036840832</title>\n<path fill=\"none\" stroke=\"black\" d=\"M259.5,-297.8C259.5,-288.7 259.5,-276.79 259.5,-266.9\"/>\n<polygon fill=\"black\" stroke=\"black\" points=\"263,-266.84 259.5,-256.84 256,-266.84 263,-266.84\"/>\n</g>\n<!-- 5036835552 -->\n<g id=\"node9\" class=\"node\">\n<title>5036835552</title>\n<polygon fill=\"lightgrey\" stroke=\"black\" points=\"417,-256.5 328,-256.5 328,-237.5 417,-237.5 417,-256.5\"/>\n<text text-anchor=\"middle\" x=\"372.5\" y=\"-244.5\" font-family=\"monospace\" font-size=\"10.00\">AddBackward0</text>\n</g>\n<!-- 5036835552&#45;&gt;5035496048 -->\n<g id=\"edge7\" class=\"edge\">\n<title>5036835552&#45;&gt;5035496048</title>\n<path fill=\"none\" stroke=\"black\" d=\"M355.83,-237.37C337.22,-227.73 306.88,-212.03 285.22,-200.81\"/>\n<polygon fill=\"black\" stroke=\"black\" points=\"286.73,-197.66 276.24,-196.17 283.51,-203.87 286.73,-197.66\"/>\n</g>\n<!-- 5036846352 -->\n<g id=\"node10\" class=\"node\">\n<title>5036846352</title>\n<polygon fill=\"lightgrey\" stroke=\"black\" points=\"462,-322.5 361,-322.5 361,-303.5 462,-303.5 462,-322.5\"/>\n<text text-anchor=\"middle\" x=\"411.5\" y=\"-310.5\" font-family=\"monospace\" font-size=\"10.00\">AddmmBackward0</text>\n</g>\n<!-- 5036846352&#45;&gt;5036835552 -->\n<g id=\"edge8\" class=\"edge\">\n<title>5036846352&#45;&gt;5036835552</title>\n<path fill=\"none\" stroke=\"black\" d=\"M406.24,-303.37C400.4,-293.78 390.81,-278.05 383.35,-265.8\"/>\n<polygon fill=\"black\" stroke=\"black\" points=\"386.12,-263.62 377.93,-256.91 380.14,-267.27 386.12,-263.62\"/>\n</g>\n<!-- 5036839968 -->\n<g id=\"node11\" class=\"node\">\n<title>5036839968</title>\n<polygon fill=\"lightgrey\" stroke=\"black\" points=\"609,-388.5 508,-388.5 508,-369.5 609,-369.5 609,-388.5\"/>\n<text text-anchor=\"middle\" x=\"558.5\" y=\"-376.5\" font-family=\"monospace\" font-size=\"10.00\">AccumulateGrad</text>\n</g>\n<!-- 5036839968&#45;&gt;5036846352 -->\n<g id=\"edge9\" class=\"edge\">\n<title>5036839968&#45;&gt;5036846352</title>\n<path fill=\"none\" stroke=\"black\" d=\"M538.67,-369.37C513.47,-358.39 469.74,-339.36 440.71,-326.72\"/>\n<polygon fill=\"black\" stroke=\"black\" points=\"442.05,-323.48 431.48,-322.7 439.25,-329.9 442.05,-323.48\"/>\n</g>\n<!-- 4783848592 -->\n<g id=\"node12\" class=\"node\">\n<title>4783848592</title>\n<polygon fill=\"lightblue\" stroke=\"black\" points=\"628,-460 539,-460 539,-430 628,-430 628,-460\"/>\n<text text-anchor=\"middle\" x=\"583.5\" y=\"-448\" font-family=\"monospace\" font-size=\"10.00\">linear3.bias</text>\n<text text-anchor=\"middle\" x=\"583.5\" y=\"-437\" font-family=\"monospace\" font-size=\"10.00\"> (100)</text>\n</g>\n<!-- 4783848592&#45;&gt;5036839968 -->\n<g id=\"edge10\" class=\"edge\">\n<title>4783848592&#45;&gt;5036839968</title>\n<path fill=\"none\" stroke=\"black\" d=\"M577.95,-429.8C574.32,-420.5 569.54,-408.27 565.63,-398.26\"/>\n<polygon fill=\"black\" stroke=\"black\" points=\"568.85,-396.89 561.95,-388.84 562.33,-399.43 568.85,-396.89\"/>\n</g>\n<!-- 5036839536 -->\n<g id=\"node13\" class=\"node\">\n<title>5036839536</title>\n<polygon fill=\"lightgrey\" stroke=\"black\" points=\"455,-388.5 354,-388.5 354,-369.5 455,-369.5 455,-388.5\"/>\n<text text-anchor=\"middle\" x=\"404.5\" y=\"-376.5\" font-family=\"monospace\" font-size=\"10.00\">AddmmBackward0</text>\n</g>\n<!-- 5036839536&#45;&gt;5036846352 -->\n<g id=\"edge11\" class=\"edge\">\n<title>5036839536&#45;&gt;5036846352</title>\n<path fill=\"none\" stroke=\"black\" d=\"M405.44,-369.37C406.46,-360.07 408.11,-344.98 409.43,-332.9\"/>\n<polygon fill=\"black\" stroke=\"black\" points=\"412.92,-333.23 410.53,-322.91 405.96,-332.47 412.92,-333.23\"/>\n</g>\n<!-- 5036848224 -->\n<g id=\"node14\" class=\"node\">\n<title>5036848224</title>\n<polygon fill=\"lightgrey\" stroke=\"black\" points=\"426,-454.5 325,-454.5 325,-435.5 426,-435.5 426,-454.5\"/>\n<text text-anchor=\"middle\" x=\"375.5\" y=\"-442.5\" font-family=\"monospace\" font-size=\"10.00\">AccumulateGrad</text>\n</g>\n<!-- 5036848224&#45;&gt;5036839536 -->\n<g id=\"edge12\" class=\"edge\">\n<title>5036848224&#45;&gt;5036839536</title>\n<path fill=\"none\" stroke=\"black\" d=\"M379.41,-435.37C383.71,-425.88 390.74,-410.36 396.27,-398.16\"/>\n<polygon fill=\"black\" stroke=\"black\" points=\"399.53,-399.46 400.46,-388.91 393.15,-396.57 399.53,-399.46\"/>\n</g>\n<!-- 5036838672 -->\n<g id=\"node28\" class=\"node\">\n<title>5036838672</title>\n<polygon fill=\"lightgrey\" stroke=\"black\" points=\"329,-388.5 228,-388.5 228,-369.5 329,-369.5 329,-388.5\"/>\n<text text-anchor=\"middle\" x=\"278.5\" y=\"-376.5\" font-family=\"monospace\" font-size=\"10.00\">AddmmBackward0</text>\n</g>\n<!-- 5036848224&#45;&gt;5036838672 -->\n<g id=\"edge27\" class=\"edge\">\n<title>5036848224&#45;&gt;5036838672</title>\n<path fill=\"none\" stroke=\"black\" d=\"M362.42,-435.37C346.44,-424.82 319.17,-406.84 300.07,-394.23\"/>\n<polygon fill=\"black\" stroke=\"black\" points=\"301.96,-391.28 291.68,-388.7 298.1,-397.13 301.96,-391.28\"/>\n</g>\n<!-- 5034187072 -->\n<g id=\"node15\" class=\"node\">\n<title>5034187072</title>\n<polygon fill=\"lightblue\" stroke=\"black\" points=\"438,-526 349,-526 349,-496 438,-496 438,-526\"/>\n<text text-anchor=\"middle\" x=\"393.5\" y=\"-514\" font-family=\"monospace\" font-size=\"10.00\">linear2.bias</text>\n<text text-anchor=\"middle\" x=\"393.5\" y=\"-503\" font-family=\"monospace\" font-size=\"10.00\"> (100)</text>\n</g>\n<!-- 5034187072&#45;&gt;5036848224 -->\n<g id=\"edge13\" class=\"edge\">\n<title>5034187072&#45;&gt;5036848224</title>\n<path fill=\"none\" stroke=\"black\" d=\"M389.51,-495.8C386.92,-486.6 383.52,-474.53 380.73,-464.58\"/>\n<polygon fill=\"black\" stroke=\"black\" points=\"384.06,-463.52 377.99,-454.84 377.33,-465.42 384.06,-463.52\"/>\n</g>\n<!-- 5036850528 -->\n<g id=\"node16\" class=\"node\">\n<title>5036850528</title>\n<polygon fill=\"lightgrey\" stroke=\"black\" points=\"212,-454.5 111,-454.5 111,-435.5 212,-435.5 212,-454.5\"/>\n<text text-anchor=\"middle\" x=\"161.5\" y=\"-442.5\" font-family=\"monospace\" font-size=\"10.00\">AddmmBackward0</text>\n</g>\n<!-- 5036850528&#45;&gt;5036839536 -->\n<g id=\"edge14\" class=\"edge\">\n<title>5036850528&#45;&gt;5036839536</title>\n<path fill=\"none\" stroke=\"black\" d=\"M194.02,-435.44C237.49,-423.99 314.58,-403.68 362.43,-391.08\"/>\n<polygon fill=\"black\" stroke=\"black\" points=\"363.39,-394.45 372.17,-388.51 361.61,-387.68 363.39,-394.45\"/>\n</g>\n<!-- 5036850528&#45;&gt;5036838672 -->\n<g id=\"edge28\" class=\"edge\">\n<title>5036850528&#45;&gt;5036838672</title>\n<path fill=\"none\" stroke=\"black\" d=\"M177.28,-435.37C196.91,-424.63 230.64,-406.18 253.73,-393.55\"/>\n<polygon fill=\"black\" stroke=\"black\" points=\"255.5,-396.57 262.6,-388.7 252.14,-390.43 255.5,-396.57\"/>\n</g>\n<!-- 5036849424 -->\n<g id=\"node17\" class=\"node\">\n<title>5036849424</title>\n<polygon fill=\"lightgrey\" stroke=\"black\" points=\"212,-520.5 111,-520.5 111,-501.5 212,-501.5 212,-520.5\"/>\n<text text-anchor=\"middle\" x=\"161.5\" y=\"-508.5\" font-family=\"monospace\" font-size=\"10.00\">AccumulateGrad</text>\n</g>\n<!-- 5036849424&#45;&gt;5036850528 -->\n<g id=\"edge15\" class=\"edge\">\n<title>5036849424&#45;&gt;5036850528</title>\n<path fill=\"none\" stroke=\"black\" d=\"M161.5,-501.37C161.5,-492.16 161.5,-477.29 161.5,-465.27\"/>\n<polygon fill=\"black\" stroke=\"black\" points=\"165,-464.91 161.5,-454.91 158,-464.91 165,-464.91\"/>\n</g>\n<!-- 5034224160 -->\n<g id=\"node18\" class=\"node\">\n<title>5034224160</title>\n<polygon fill=\"lightblue\" stroke=\"black\" points=\"208,-592 119,-592 119,-562 208,-562 208,-592\"/>\n<text text-anchor=\"middle\" x=\"163.5\" y=\"-580\" font-family=\"monospace\" font-size=\"10.00\">linear1.bias</text>\n<text text-anchor=\"middle\" x=\"163.5\" y=\"-569\" font-family=\"monospace\" font-size=\"10.00\"> (10)</text>\n</g>\n<!-- 5034224160&#45;&gt;5036849424 -->\n<g id=\"edge16\" class=\"edge\">\n<title>5034224160&#45;&gt;5036849424</title>\n<path fill=\"none\" stroke=\"black\" d=\"M163.06,-561.8C162.77,-552.7 162.4,-540.79 162.09,-530.9\"/>\n<polygon fill=\"black\" stroke=\"black\" points=\"165.59,-530.73 161.78,-520.84 158.59,-530.95 165.59,-530.73\"/>\n</g>\n<!-- 5036837280 -->\n<g id=\"node19\" class=\"node\">\n<title>5036837280</title>\n<polygon fill=\"lightgrey\" stroke=\"black\" points=\"92,-520.5 15,-520.5 15,-501.5 92,-501.5 92,-520.5\"/>\n<text text-anchor=\"middle\" x=\"53.5\" y=\"-508.5\" font-family=\"monospace\" font-size=\"10.00\">TBackward0</text>\n</g>\n<!-- 5036837280&#45;&gt;5036850528 -->\n<g id=\"edge17\" class=\"edge\">\n<title>5036837280&#45;&gt;5036850528</title>\n<path fill=\"none\" stroke=\"black\" d=\"M68.07,-501.37C86.02,-490.73 116.77,-472.51 138.06,-459.89\"/>\n<polygon fill=\"black\" stroke=\"black\" points=\"140,-462.81 146.82,-454.7 136.43,-456.79 140,-462.81\"/>\n</g>\n<!-- 5036921600 -->\n<g id=\"node20\" class=\"node\">\n<title>5036921600</title>\n<polygon fill=\"lightgrey\" stroke=\"black\" points=\"101,-586.5 0,-586.5 0,-567.5 101,-567.5 101,-586.5\"/>\n<text text-anchor=\"middle\" x=\"50.5\" y=\"-574.5\" font-family=\"monospace\" font-size=\"10.00\">AccumulateGrad</text>\n</g>\n<!-- 5036921600&#45;&gt;5036837280 -->\n<g id=\"edge18\" class=\"edge\">\n<title>5036921600&#45;&gt;5036837280</title>\n<path fill=\"none\" stroke=\"black\" d=\"M50.9,-567.37C51.34,-558.07 52.05,-542.98 52.61,-530.9\"/>\n<polygon fill=\"black\" stroke=\"black\" points=\"56.11,-531.06 53.08,-520.91 49.12,-530.73 56.11,-531.06\"/>\n</g>\n<!-- 5034181472 -->\n<g id=\"node21\" class=\"node\">\n<title>5034181472</title>\n<polygon fill=\"lightblue\" stroke=\"black\" points=\"101,-658 0,-658 0,-628 101,-628 101,-658\"/>\n<text text-anchor=\"middle\" x=\"50.5\" y=\"-646\" font-family=\"monospace\" font-size=\"10.00\">linear1.weight</text>\n<text text-anchor=\"middle\" x=\"50.5\" y=\"-635\" font-family=\"monospace\" font-size=\"10.00\"> (10, 5)</text>\n</g>\n<!-- 5034181472&#45;&gt;5036921600 -->\n<g id=\"edge19\" class=\"edge\">\n<title>5034181472&#45;&gt;5036921600</title>\n<path fill=\"none\" stroke=\"black\" d=\"M50.5,-627.8C50.5,-618.7 50.5,-606.79 50.5,-596.9\"/>\n<polygon fill=\"black\" stroke=\"black\" points=\"54,-596.84 50.5,-586.84 47,-596.84 54,-596.84\"/>\n</g>\n<!-- 5036848560 -->\n<g id=\"node22\" class=\"node\">\n<title>5036848560</title>\n<polygon fill=\"lightgrey\" stroke=\"black\" points=\"521,-454.5 444,-454.5 444,-435.5 521,-435.5 521,-454.5\"/>\n<text text-anchor=\"middle\" x=\"482.5\" y=\"-442.5\" font-family=\"monospace\" font-size=\"10.00\">TBackward0</text>\n</g>\n<!-- 5036848560&#45;&gt;5036839536 -->\n<g id=\"edge20\" class=\"edge\">\n<title>5036848560&#45;&gt;5036839536</title>\n<path fill=\"none\" stroke=\"black\" d=\"M471.98,-435.37C459.42,-425.06 438.19,-407.65 422.9,-395.09\"/>\n<polygon fill=\"black\" stroke=\"black\" points=\"425.05,-392.34 415.1,-388.7 420.61,-397.75 425.05,-392.34\"/>\n</g>\n<!-- 4784031056 -->\n<g id=\"node23\" class=\"node\">\n<title>4784031056</title>\n<polygon fill=\"lightgrey\" stroke=\"black\" points=\"331,-520.5 230,-520.5 230,-501.5 331,-501.5 331,-520.5\"/>\n<text text-anchor=\"middle\" x=\"280.5\" y=\"-508.5\" font-family=\"monospace\" font-size=\"10.00\">AccumulateGrad</text>\n</g>\n<!-- 4784031056&#45;&gt;5036848560 -->\n<g id=\"edge21\" class=\"edge\">\n<title>4784031056&#45;&gt;5036848560</title>\n<path fill=\"none\" stroke=\"black\" d=\"M307.74,-501.37C343.38,-490.08 405.97,-470.25 445.77,-457.64\"/>\n<polygon fill=\"black\" stroke=\"black\" points=\"446.89,-460.95 455.37,-454.6 444.78,-454.28 446.89,-460.95\"/>\n</g>\n<!-- 5036841360 -->\n<g id=\"node29\" class=\"node\">\n<title>5036841360</title>\n<polygon fill=\"lightgrey\" stroke=\"black\" points=\"307,-454.5 230,-454.5 230,-435.5 307,-435.5 307,-454.5\"/>\n<text text-anchor=\"middle\" x=\"268.5\" y=\"-442.5\" font-family=\"monospace\" font-size=\"10.00\">TBackward0</text>\n</g>\n<!-- 4784031056&#45;&gt;5036841360 -->\n<g id=\"edge30\" class=\"edge\">\n<title>4784031056&#45;&gt;5036841360</title>\n<path fill=\"none\" stroke=\"black\" d=\"M278.88,-501.37C277.14,-492.07 274.31,-476.98 272.04,-464.9\"/>\n<polygon fill=\"black\" stroke=\"black\" points=\"275.45,-464.09 270.17,-454.91 268.57,-465.38 275.45,-464.09\"/>\n</g>\n<!-- 5034192592 -->\n<g id=\"node24\" class=\"node\">\n<title>5034192592</title>\n<polygon fill=\"lightblue\" stroke=\"black\" points=\"331,-592 230,-592 230,-562 331,-562 331,-592\"/>\n<text text-anchor=\"middle\" x=\"280.5\" y=\"-580\" font-family=\"monospace\" font-size=\"10.00\">linear2.weight</text>\n<text text-anchor=\"middle\" x=\"280.5\" y=\"-569\" font-family=\"monospace\" font-size=\"10.00\"> (100, 10)</text>\n</g>\n<!-- 5034192592&#45;&gt;4784031056 -->\n<g id=\"edge22\" class=\"edge\">\n<title>5034192592&#45;&gt;4784031056</title>\n<path fill=\"none\" stroke=\"black\" d=\"M280.5,-561.8C280.5,-552.7 280.5,-540.79 280.5,-530.9\"/>\n<polygon fill=\"black\" stroke=\"black\" points=\"284,-530.84 280.5,-520.84 277,-530.84 284,-530.84\"/>\n</g>\n<!-- 5036840400 -->\n<g id=\"node25\" class=\"node\">\n<title>5036840400</title>\n<polygon fill=\"lightgrey\" stroke=\"black\" points=\"724,-388.5 647,-388.5 647,-369.5 724,-369.5 724,-388.5\"/>\n<text text-anchor=\"middle\" x=\"685.5\" y=\"-376.5\" font-family=\"monospace\" font-size=\"10.00\">TBackward0</text>\n</g>\n<!-- 5036840400&#45;&gt;5036846352 -->\n<g id=\"edge23\" class=\"edge\">\n<title>5036840400&#45;&gt;5036846352</title>\n<path fill=\"none\" stroke=\"black\" d=\"M648.83,-369.44C599.51,-357.92 511.79,-337.43 457.93,-324.84\"/>\n<polygon fill=\"black\" stroke=\"black\" points=\"458.49,-321.38 447.95,-322.51 456.89,-328.2 458.49,-321.38\"/>\n</g>\n<!-- 5036842512 -->\n<g id=\"node26\" class=\"node\">\n<title>5036842512</title>\n<polygon fill=\"lightgrey\" stroke=\"black\" points=\"747,-454.5 646,-454.5 646,-435.5 747,-435.5 747,-454.5\"/>\n<text text-anchor=\"middle\" x=\"696.5\" y=\"-442.5\" font-family=\"monospace\" font-size=\"10.00\">AccumulateGrad</text>\n</g>\n<!-- 5036842512&#45;&gt;5036840400 -->\n<g id=\"edge24\" class=\"edge\">\n<title>5036842512&#45;&gt;5036840400</title>\n<path fill=\"none\" stroke=\"black\" d=\"M695.02,-435.37C693.42,-426.07 690.82,-410.98 688.75,-398.9\"/>\n<polygon fill=\"black\" stroke=\"black\" points=\"692.17,-398.17 687.03,-388.91 685.28,-399.35 692.17,-398.17\"/>\n</g>\n<!-- 5034190512 -->\n<g id=\"node27\" class=\"node\">\n<title>5034190512</title>\n<polygon fill=\"lightblue\" stroke=\"black\" points=\"747,-526 646,-526 646,-496 747,-496 747,-526\"/>\n<text text-anchor=\"middle\" x=\"696.5\" y=\"-514\" font-family=\"monospace\" font-size=\"10.00\">linear3.weight</text>\n<text text-anchor=\"middle\" x=\"696.5\" y=\"-503\" font-family=\"monospace\" font-size=\"10.00\"> (100, 100)</text>\n</g>\n<!-- 5034190512&#45;&gt;5036842512 -->\n<g id=\"edge25\" class=\"edge\">\n<title>5034190512&#45;&gt;5036842512</title>\n<path fill=\"none\" stroke=\"black\" d=\"M696.5,-495.8C696.5,-486.7 696.5,-474.79 696.5,-464.9\"/>\n<polygon fill=\"black\" stroke=\"black\" points=\"700,-464.84 696.5,-454.84 693,-464.84 700,-464.84\"/>\n</g>\n<!-- 5036838672&#45;&gt;5036835552 -->\n<g id=\"edge26\" class=\"edge\">\n<title>5036838672&#45;&gt;5036835552</title>\n<path fill=\"none\" stroke=\"black\" d=\"M284.67,-369.47C299.93,-348.36 339.72,-293.34 360.09,-265.17\"/>\n<polygon fill=\"black\" stroke=\"black\" points=\"363.16,-266.89 366.19,-256.73 357.49,-262.78 363.16,-266.89\"/>\n</g>\n<!-- 5036841360&#45;&gt;5036838672 -->\n<g id=\"edge29\" class=\"edge\">\n<title>5036841360&#45;&gt;5036838672</title>\n<path fill=\"none\" stroke=\"black\" d=\"M269.85,-435.37C271.3,-426.07 273.66,-410.98 275.55,-398.9\"/>\n<polygon fill=\"black\" stroke=\"black\" points=\"279.02,-399.33 277.11,-388.91 272.11,-398.25 279.02,-399.33\"/>\n</g>\n<!-- 5036849088 -->\n<g id=\"node30\" class=\"node\">\n<title>5036849088</title>\n<polygon fill=\"lightgrey\" stroke=\"black\" points=\"191,-256.5 114,-256.5 114,-237.5 191,-237.5 191,-256.5\"/>\n<text text-anchor=\"middle\" x=\"152.5\" y=\"-244.5\" font-family=\"monospace\" font-size=\"10.00\">TBackward0</text>\n</g>\n<!-- 5036849088&#45;&gt;5035496048 -->\n<g id=\"edge31\" class=\"edge\">\n<title>5036849088&#45;&gt;5035496048</title>\n<path fill=\"none\" stroke=\"black\" d=\"M168.29,-237.37C185.83,-227.78 214.38,-212.17 234.87,-200.97\"/>\n<polygon fill=\"black\" stroke=\"black\" points=\"236.55,-204.04 243.65,-196.17 233.19,-197.89 236.55,-204.04\"/>\n</g>\n<!-- 5036849760 -->\n<g id=\"node31\" class=\"node\">\n<title>5036849760</title>\n<polygon fill=\"lightgrey\" stroke=\"black\" points=\"197,-322.5 96,-322.5 96,-303.5 197,-303.5 197,-322.5\"/>\n<text text-anchor=\"middle\" x=\"146.5\" y=\"-310.5\" font-family=\"monospace\" font-size=\"10.00\">AccumulateGrad</text>\n</g>\n<!-- 5036849760&#45;&gt;5036849088 -->\n<g id=\"edge32\" class=\"edge\">\n<title>5036849760&#45;&gt;5036849088</title>\n<path fill=\"none\" stroke=\"black\" d=\"M147.31,-303.37C148.18,-294.07 149.6,-278.98 150.73,-266.9\"/>\n<polygon fill=\"black\" stroke=\"black\" points=\"154.22,-267.19 151.67,-256.91 147.25,-266.53 154.22,-267.19\"/>\n</g>\n<!-- 5034215920 -->\n<g id=\"node32\" class=\"node\">\n<title>5034215920</title>\n<polygon fill=\"lightblue\" stroke=\"black\" points=\"197,-394 96,-394 96,-364 197,-364 197,-394\"/>\n<text text-anchor=\"middle\" x=\"146.5\" y=\"-382\" font-family=\"monospace\" font-size=\"10.00\">linear4.weight</text>\n<text text-anchor=\"middle\" x=\"146.5\" y=\"-371\" font-family=\"monospace\" font-size=\"10.00\"> (10, 100)</text>\n</g>\n<!-- 5034215920&#45;&gt;5036849760 -->\n<g id=\"edge33\" class=\"edge\">\n<title>5034215920&#45;&gt;5036849760</title>\n<path fill=\"none\" stroke=\"black\" d=\"M146.5,-363.8C146.5,-354.7 146.5,-342.79 146.5,-332.9\"/>\n<polygon fill=\"black\" stroke=\"black\" points=\"150,-332.84 146.5,-322.84 143,-332.84 150,-332.84\"/>\n</g>\n<!-- 5036843328 -->\n<g id=\"node33\" class=\"node\">\n<title>5036843328</title>\n<polygon fill=\"lightgrey\" stroke=\"black\" points=\"487,-196 410,-196 410,-177 487,-177 487,-196\"/>\n<text text-anchor=\"middle\" x=\"448.5\" y=\"-184\" font-family=\"monospace\" font-size=\"10.00\">TBackward0</text>\n</g>\n<!-- 5036843328&#45;&gt;5035496672 -->\n<g id=\"edge34\" class=\"edge\">\n<title>5036843328&#45;&gt;5035496672</title>\n<path fill=\"none\" stroke=\"black\" d=\"M418.13,-176.98C386.13,-168.01 335.54,-153.82 300.12,-143.89\"/>\n<polygon fill=\"black\" stroke=\"black\" points=\"300.68,-140.41 290.1,-141.08 298.79,-147.15 300.68,-140.41\"/>\n</g>\n<!-- 5036850144 -->\n<g id=\"node34\" class=\"node\">\n<title>5036850144</title>\n<polygon fill=\"lightgrey\" stroke=\"black\" points=\"559,-256.5 458,-256.5 458,-237.5 559,-237.5 559,-256.5\"/>\n<text text-anchor=\"middle\" x=\"508.5\" y=\"-244.5\" font-family=\"monospace\" font-size=\"10.00\">AccumulateGrad</text>\n</g>\n<!-- 5036850144&#45;&gt;5036843328 -->\n<g id=\"edge35\" class=\"edge\">\n<title>5036850144&#45;&gt;5036843328</title>\n<path fill=\"none\" stroke=\"black\" d=\"M499.65,-237.37C490.52,-228.47 476.08,-214.39 464.86,-203.45\"/>\n<polygon fill=\"black\" stroke=\"black\" points=\"466.99,-200.64 457.39,-196.17 462.11,-205.65 466.99,-200.64\"/>\n</g>\n<!-- 5034213600 -->\n<g id=\"node35\" class=\"node\">\n<title>5034213600</title>\n<polygon fill=\"lightblue\" stroke=\"black\" points=\"581,-328 480,-328 480,-298 581,-298 581,-328\"/>\n<text text-anchor=\"middle\" x=\"530.5\" y=\"-316\" font-family=\"monospace\" font-size=\"10.00\">linear5.weight</text>\n<text text-anchor=\"middle\" x=\"530.5\" y=\"-305\" font-family=\"monospace\" font-size=\"10.00\"> (2, 10)</text>\n</g>\n<!-- 5034213600&#45;&gt;5036850144 -->\n<g id=\"edge36\" class=\"edge\">\n<title>5034213600&#45;&gt;5036850144</title>\n<path fill=\"none\" stroke=\"black\" d=\"M525.62,-297.8C522.46,-288.6 518.31,-276.53 514.89,-266.58\"/>\n<polygon fill=\"black\" stroke=\"black\" points=\"518.1,-265.16 511.54,-256.84 511.48,-267.44 518.1,-265.16\"/>\n</g>\n</g>\n</svg>\n",
      "text/plain": [
       "<graphviz.graphs.Digraph at 0x12c36d570>"
      ]
     },
     "execution_count": 25,
     "metadata": {},
     "output_type": "execute_result"
    }
   ],
   "source": [
    "make_dot(n.mean(),params=dict(model.named_parameters()))"
   ]
  },
  {
   "cell_type": "code",
   "execution_count": 32,
   "metadata": {},
   "outputs": [
    {
     "data": {
      "text/plain": [
       "'Importance of your model size:\\nThe model object size is the important significance of your inner working of your model\\n\\nThe size must be:\\n[The total number of the records, total number of output class]'"
      ]
     },
     "execution_count": 32,
     "metadata": {},
     "output_type": "execute_result"
    }
   ],
   "source": [
    "'''Importance of your model size:\n",
    "The model object size is the important significance of your inner working of your model\n",
    "\n",
    "The size must be:\n",
    "[The total number of the records, total number of output class]'''"
   ]
  },
  {
   "cell_type": "code",
   "execution_count": 33,
   "metadata": {},
   "outputs": [
    {
     "name": "stdout",
     "output_type": "stream",
     "text": [
      "torch.Size([10, 2])\n"
     ]
    }
   ],
   "source": [
    "\n",
    "print(n.shape)"
   ]
  },
  {
   "cell_type": "code",
   "execution_count": 34,
   "metadata": {},
   "outputs": [],
   "source": [
    "#Complex Forward Functions\n",
    "\n",
    "class myFirstNeuralNetworkModel(nn.Module):\n",
    "  def __init__(self):\n",
    "    super().__init__()\n",
    "    # This model has 2 Linear layers\n",
    "    self.linear1 = nn.Linear(5, 100)\n",
    "    self.linear2 = nn.Linear(100, 5)\n",
    "    self.linear3 = nn.Linear(100, 2) \n",
    "    ## Last layer OUT parameter shows the number of outputs in your nerual network\n",
    "  def forward(self, x):\n",
    "    # This model connect the layer outputs in the forward pass\n",
    "    x1 = self.linear1(x) # In -> 5, 100, x1 = 5,100\n",
    "    print(x1.shape)\n",
    "    x2 = x + self.linear2(x1) #  (5,100) + ( 5, 100) > x2 = (5, 100) \n",
    "    print(x2.shape)\n",
    "    x2 = self.linear1(x2) # x2 => (5, 100)\n",
    "    print(x2.shape)\n",
    "    x = self.linear3(x2) # x2 = (5, 100), x3 => (100, 2)  >  x = output dimension: 2\n",
    "    print(x.shape)\n",
    "    return x"
   ]
  },
  {
   "cell_type": "code",
   "execution_count": 35,
   "metadata": {},
   "outputs": [
    {
     "name": "stdout",
     "output_type": "stream",
     "text": [
      "torch.Size([10, 100])\n",
      "torch.Size([10, 5])\n",
      "torch.Size([10, 100])\n",
      "torch.Size([10, 2])\n"
     ]
    }
   ],
   "source": [
    "\n",
    "model = myFirstNeuralNetworkModel()\n",
    "#t = torch.ones(10, 5)\n",
    "t = torch.randn(10, 5)\n",
    "n = model(t)"
   ]
  },
  {
   "cell_type": "code",
   "execution_count": 36,
   "metadata": {},
   "outputs": [
    {
     "name": "stdout",
     "output_type": "stream",
     "text": [
      "<built-in method size of Tensor object at 0x12c102f70>\n",
      "torch.Size([10, 2])\n",
      "tensor([[ 0.2692,  0.0697],\n",
      "        [ 0.5203,  0.4662],\n",
      "        [ 0.0252, -0.2846],\n",
      "        [-0.4598,  0.6096],\n",
      "        [-0.2775,  0.4730],\n",
      "        [-0.4600,  0.6037],\n",
      "        [-0.2284,  0.4565],\n",
      "        [-0.2503, -0.2708],\n",
      "        [ 0.3537, -0.0844],\n",
      "        [ 0.1048, -0.0895]], grad_fn=<AddmmBackward0>)\n"
     ]
    }
   ],
   "source": [
    "\n",
    "print(n.size)\n",
    "print(n.shape)\n",
    "print(n)"
   ]
  },
  {
   "attachments": {},
   "cell_type": "markdown",
   "metadata": {},
   "source": [
    "### Heart Disease Problem"
   ]
  },
  {
   "cell_type": "code",
   "execution_count": 37,
   "metadata": {},
   "outputs": [
    {
     "data": {
      "text/plain": [
       "'https://archive.ics.uci.edu/ml/datasets/heart+disease\\n75 columns, 14 columns are most used and applicable\\nRecords 303\\nInput -> (303, 14) - 13 Input features and 1 output or target\\nOutput -> 2 classes -> True and False'"
      ]
     },
     "execution_count": 37,
     "metadata": {},
     "output_type": "execute_result"
    }
   ],
   "source": [
    "'''https://archive.ics.uci.edu/ml/datasets/heart+disease\n",
    "75 columns, 14 columns are most used and applicable\n",
    "Records 303\n",
    "Input -> (303, 14) - 13 Input features and 1 output or target\n",
    "Output -> 2 classes -> True and False'''"
   ]
  },
  {
   "cell_type": "code",
   "execution_count": 38,
   "metadata": {},
   "outputs": [],
   "source": [
    "\n",
    "import pandas as pd\n",
    "import numpy as np\n",
    "     "
   ]
  },
  {
   "cell_type": "code",
   "execution_count": 39,
   "metadata": {},
   "outputs": [],
   "source": [
    "df = pd.read_csv('https://raw.githubusercontent.com/prodramp/publiccode/master/datasets/heart.csv')\n"
   ]
  },
  {
   "cell_type": "code",
   "execution_count": 40,
   "metadata": {},
   "outputs": [],
   "source": [
    "\n",
    "\n",
    "df_input = pd.DataFrame(df.iloc[:, 0:13])\n",
    "df_target = pd.DataFrame(df.iloc[:, 13],columns=['target'])"
   ]
  },
  {
   "cell_type": "code",
   "execution_count": 41,
   "metadata": {},
   "outputs": [
    {
     "data": {
      "text/plain": [
       "Index(['age', 'sex', 'cp', 'trestbps', 'chol', 'fbs', 'restecg', 'thalach',\n",
       "       'exang', 'oldpeak', 'slope', 'ca', 'thal'],\n",
       "      dtype='object')"
      ]
     },
     "execution_count": 41,
     "metadata": {},
     "output_type": "execute_result"
    }
   ],
   "source": [
    "df_input.columns\n"
   ]
  },
  {
   "cell_type": "code",
   "execution_count": 42,
   "metadata": {},
   "outputs": [
    {
     "data": {
      "text/html": [
       "<div>\n",
       "<style scoped>\n",
       "    .dataframe tbody tr th:only-of-type {\n",
       "        vertical-align: middle;\n",
       "    }\n",
       "\n",
       "    .dataframe tbody tr th {\n",
       "        vertical-align: top;\n",
       "    }\n",
       "\n",
       "    .dataframe thead th {\n",
       "        text-align: right;\n",
       "    }\n",
       "</style>\n",
       "<table border=\"1\" class=\"dataframe\">\n",
       "  <thead>\n",
       "    <tr style=\"text-align: right;\">\n",
       "      <th></th>\n",
       "      <th>age</th>\n",
       "      <th>sex</th>\n",
       "      <th>cp</th>\n",
       "      <th>trestbps</th>\n",
       "      <th>chol</th>\n",
       "      <th>fbs</th>\n",
       "      <th>restecg</th>\n",
       "      <th>thalach</th>\n",
       "      <th>exang</th>\n",
       "      <th>oldpeak</th>\n",
       "      <th>slope</th>\n",
       "      <th>ca</th>\n",
       "      <th>thal</th>\n",
       "    </tr>\n",
       "  </thead>\n",
       "  <tbody>\n",
       "    <tr>\n",
       "      <th>0</th>\n",
       "      <td>63</td>\n",
       "      <td>1</td>\n",
       "      <td>3</td>\n",
       "      <td>145</td>\n",
       "      <td>233</td>\n",
       "      <td>1</td>\n",
       "      <td>0</td>\n",
       "      <td>150</td>\n",
       "      <td>0</td>\n",
       "      <td>2.3</td>\n",
       "      <td>0</td>\n",
       "      <td>0</td>\n",
       "      <td>1</td>\n",
       "    </tr>\n",
       "    <tr>\n",
       "      <th>1</th>\n",
       "      <td>37</td>\n",
       "      <td>1</td>\n",
       "      <td>2</td>\n",
       "      <td>130</td>\n",
       "      <td>250</td>\n",
       "      <td>0</td>\n",
       "      <td>1</td>\n",
       "      <td>187</td>\n",
       "      <td>0</td>\n",
       "      <td>3.5</td>\n",
       "      <td>0</td>\n",
       "      <td>0</td>\n",
       "      <td>2</td>\n",
       "    </tr>\n",
       "    <tr>\n",
       "      <th>2</th>\n",
       "      <td>41</td>\n",
       "      <td>0</td>\n",
       "      <td>1</td>\n",
       "      <td>130</td>\n",
       "      <td>204</td>\n",
       "      <td>0</td>\n",
       "      <td>0</td>\n",
       "      <td>172</td>\n",
       "      <td>0</td>\n",
       "      <td>1.4</td>\n",
       "      <td>2</td>\n",
       "      <td>0</td>\n",
       "      <td>2</td>\n",
       "    </tr>\n",
       "    <tr>\n",
       "      <th>3</th>\n",
       "      <td>56</td>\n",
       "      <td>1</td>\n",
       "      <td>1</td>\n",
       "      <td>120</td>\n",
       "      <td>236</td>\n",
       "      <td>0</td>\n",
       "      <td>1</td>\n",
       "      <td>178</td>\n",
       "      <td>0</td>\n",
       "      <td>0.8</td>\n",
       "      <td>2</td>\n",
       "      <td>0</td>\n",
       "      <td>2</td>\n",
       "    </tr>\n",
       "    <tr>\n",
       "      <th>4</th>\n",
       "      <td>57</td>\n",
       "      <td>0</td>\n",
       "      <td>0</td>\n",
       "      <td>120</td>\n",
       "      <td>354</td>\n",
       "      <td>0</td>\n",
       "      <td>1</td>\n",
       "      <td>163</td>\n",
       "      <td>1</td>\n",
       "      <td>0.6</td>\n",
       "      <td>2</td>\n",
       "      <td>0</td>\n",
       "      <td>2</td>\n",
       "    </tr>\n",
       "    <tr>\n",
       "      <th>...</th>\n",
       "      <td>...</td>\n",
       "      <td>...</td>\n",
       "      <td>...</td>\n",
       "      <td>...</td>\n",
       "      <td>...</td>\n",
       "      <td>...</td>\n",
       "      <td>...</td>\n",
       "      <td>...</td>\n",
       "      <td>...</td>\n",
       "      <td>...</td>\n",
       "      <td>...</td>\n",
       "      <td>...</td>\n",
       "      <td>...</td>\n",
       "    </tr>\n",
       "    <tr>\n",
       "      <th>298</th>\n",
       "      <td>57</td>\n",
       "      <td>0</td>\n",
       "      <td>0</td>\n",
       "      <td>140</td>\n",
       "      <td>241</td>\n",
       "      <td>0</td>\n",
       "      <td>1</td>\n",
       "      <td>123</td>\n",
       "      <td>1</td>\n",
       "      <td>0.2</td>\n",
       "      <td>1</td>\n",
       "      <td>0</td>\n",
       "      <td>3</td>\n",
       "    </tr>\n",
       "    <tr>\n",
       "      <th>299</th>\n",
       "      <td>45</td>\n",
       "      <td>1</td>\n",
       "      <td>3</td>\n",
       "      <td>110</td>\n",
       "      <td>264</td>\n",
       "      <td>0</td>\n",
       "      <td>1</td>\n",
       "      <td>132</td>\n",
       "      <td>0</td>\n",
       "      <td>1.2</td>\n",
       "      <td>1</td>\n",
       "      <td>0</td>\n",
       "      <td>3</td>\n",
       "    </tr>\n",
       "    <tr>\n",
       "      <th>300</th>\n",
       "      <td>68</td>\n",
       "      <td>1</td>\n",
       "      <td>0</td>\n",
       "      <td>144</td>\n",
       "      <td>193</td>\n",
       "      <td>1</td>\n",
       "      <td>1</td>\n",
       "      <td>141</td>\n",
       "      <td>0</td>\n",
       "      <td>3.4</td>\n",
       "      <td>1</td>\n",
       "      <td>2</td>\n",
       "      <td>3</td>\n",
       "    </tr>\n",
       "    <tr>\n",
       "      <th>301</th>\n",
       "      <td>57</td>\n",
       "      <td>1</td>\n",
       "      <td>0</td>\n",
       "      <td>130</td>\n",
       "      <td>131</td>\n",
       "      <td>0</td>\n",
       "      <td>1</td>\n",
       "      <td>115</td>\n",
       "      <td>1</td>\n",
       "      <td>1.2</td>\n",
       "      <td>1</td>\n",
       "      <td>1</td>\n",
       "      <td>3</td>\n",
       "    </tr>\n",
       "    <tr>\n",
       "      <th>302</th>\n",
       "      <td>57</td>\n",
       "      <td>0</td>\n",
       "      <td>1</td>\n",
       "      <td>130</td>\n",
       "      <td>236</td>\n",
       "      <td>0</td>\n",
       "      <td>0</td>\n",
       "      <td>174</td>\n",
       "      <td>0</td>\n",
       "      <td>0.0</td>\n",
       "      <td>1</td>\n",
       "      <td>1</td>\n",
       "      <td>2</td>\n",
       "    </tr>\n",
       "  </tbody>\n",
       "</table>\n",
       "<p>303 rows × 13 columns</p>\n",
       "</div>"
      ],
      "text/plain": [
       "     age  sex  cp  trestbps  chol  fbs  restecg  thalach  exang  oldpeak  \\\n",
       "0     63    1   3       145   233    1        0      150      0      2.3   \n",
       "1     37    1   2       130   250    0        1      187      0      3.5   \n",
       "2     41    0   1       130   204    0        0      172      0      1.4   \n",
       "3     56    1   1       120   236    0        1      178      0      0.8   \n",
       "4     57    0   0       120   354    0        1      163      1      0.6   \n",
       "..   ...  ...  ..       ...   ...  ...      ...      ...    ...      ...   \n",
       "298   57    0   0       140   241    0        1      123      1      0.2   \n",
       "299   45    1   3       110   264    0        1      132      0      1.2   \n",
       "300   68    1   0       144   193    1        1      141      0      3.4   \n",
       "301   57    1   0       130   131    0        1      115      1      1.2   \n",
       "302   57    0   1       130   236    0        0      174      0      0.0   \n",
       "\n",
       "     slope  ca  thal  \n",
       "0        0   0     1  \n",
       "1        0   0     2  \n",
       "2        2   0     2  \n",
       "3        2   0     2  \n",
       "4        2   0     2  \n",
       "..     ...  ..   ...  \n",
       "298      1   0     3  \n",
       "299      1   0     3  \n",
       "300      1   2     3  \n",
       "301      1   1     3  \n",
       "302      1   1     2  \n",
       "\n",
       "[303 rows x 13 columns]"
      ]
     },
     "execution_count": 42,
     "metadata": {},
     "output_type": "execute_result"
    }
   ],
   "source": [
    "df_input\n"
   ]
  },
  {
   "cell_type": "code",
   "execution_count": 43,
   "metadata": {},
   "outputs": [
    {
     "data": {
      "text/plain": [
       "Index(['target'], dtype='object')"
      ]
     },
     "execution_count": 43,
     "metadata": {},
     "output_type": "execute_result"
    }
   ],
   "source": [
    "df_target.columns\n"
   ]
  },
  {
   "cell_type": "code",
   "execution_count": 44,
   "metadata": {},
   "outputs": [],
   "source": [
    "\n",
    "inputs_np_array = df_input.to_numpy()\n",
    "targets_np_array = df_target.to_numpy()"
   ]
  },
  {
   "cell_type": "code",
   "execution_count": 45,
   "metadata": {},
   "outputs": [
    {
     "data": {
      "text/plain": [
       "array([[63.,  1.,  3., ...,  0.,  0.,  1.],\n",
       "       [37.,  1.,  2., ...,  0.,  0.,  2.],\n",
       "       [41.,  0.,  1., ...,  2.,  0.,  2.],\n",
       "       ...,\n",
       "       [68.,  1.,  0., ...,  1.,  2.,  3.],\n",
       "       [57.,  1.,  0., ...,  1.,  1.,  3.],\n",
       "       [57.,  0.,  1., ...,  1.,  1.,  2.]])"
      ]
     },
     "execution_count": 45,
     "metadata": {},
     "output_type": "execute_result"
    }
   ],
   "source": [
    "inputs_np_array"
   ]
  },
  {
   "cell_type": "code",
   "execution_count": 46,
   "metadata": {},
   "outputs": [],
   "source": [
    "\n",
    "\n",
    "inputs = torch.from_numpy(np.array(inputs_np_array,dtype='float32'))\n",
    "targets = torch.from_numpy(np.array(targets_np_array,dtype='float32'))"
   ]
  },
  {
   "cell_type": "code",
   "execution_count": 47,
   "metadata": {},
   "outputs": [
    {
     "name": "stdout",
     "output_type": "stream",
     "text": [
      "torch.float32\n"
     ]
    },
    {
     "data": {
      "text/plain": [
       "tensor([[63.,  1.,  3.,  ...,  0.,  0.,  1.],\n",
       "        [37.,  1.,  2.,  ...,  0.,  0.,  2.],\n",
       "        [41.,  0.,  1.,  ...,  2.,  0.,  2.],\n",
       "        ...,\n",
       "        [68.,  1.,  0.,  ...,  1.,  2.,  3.],\n",
       "        [57.,  1.,  0.,  ...,  1.,  1.,  3.],\n",
       "        [57.,  0.,  1.,  ...,  1.,  1.,  2.]])"
      ]
     },
     "execution_count": 47,
     "metadata": {},
     "output_type": "execute_result"
    }
   ],
   "source": [
    "\n",
    "\n",
    "print(inputs.dtype)\n",
    "inputs\n",
    "     "
   ]
  },
  {
   "cell_type": "code",
   "execution_count": 48,
   "metadata": {},
   "outputs": [
    {
     "name": "stdout",
     "output_type": "stream",
     "text": [
      "torch.float32\n"
     ]
    }
   ],
   "source": [
    "\n",
    "print(targets.dtype)\n",
    "#targets\n",
    "     "
   ]
  },
  {
   "cell_type": "code",
   "execution_count": 49,
   "metadata": {},
   "outputs": [
    {
     "name": "stdout",
     "output_type": "stream",
     "text": [
      "13\n",
      "1\n",
      "303\n",
      "303\n"
     ]
    }
   ],
   "source": [
    "\n",
    "print(len(inputs[0]))\n",
    "print(len(targets[0]))\n",
    "print(len(inputs))\n",
    "print(len(targets))\n",
    "     "
   ]
  },
  {
   "cell_type": "code",
   "execution_count": 50,
   "metadata": {},
   "outputs": [],
   "source": [
    "\n",
    "class HeartDiseaseNeuralNetworkModel(nn.Module):\n",
    "  def __init__(self):\n",
    "    super().__init__()\n",
    "    ## 13 input fields will be used a feature, 100 is the hidden layer\n",
    "    self.linear1 = nn.Linear(13, 100)\n",
    "    self.linear2 = nn.Linear(100, 10)\n",
    "    self.linear3 = nn.Linear(10, 2) \n",
    "  def forward(self, x):\n",
    "    x = self.linear1(x)\n",
    "    print(x.shape)\n",
    "    x = self.linear2(x)\n",
    "    print(x.shape)\n",
    "    x = self.linear3(x)\n",
    "    print(x.shape)\n",
    "    return x"
   ]
  },
  {
   "cell_type": "code",
   "execution_count": 51,
   "metadata": {},
   "outputs": [
    {
     "name": "stdout",
     "output_type": "stream",
     "text": [
      "<built-in method size of Tensor object at 0x12c0f8ea0>\n",
      "torch.Size([303, 13])\n",
      "tensor([[ 1.0149,  0.2333,  0.6994,  ..., -1.2944, -0.3758,  0.9079],\n",
      "        [-0.2634, -0.9045, -0.0434,  ..., -0.2093,  2.3588, -1.0712],\n",
      "        [ 0.9742, -0.3009,  0.2123,  ...,  1.9870, -0.3435,  0.4072],\n",
      "        ...,\n",
      "        [-0.2374, -0.8130,  0.7829,  ...,  1.6196,  0.1317,  0.3220],\n",
      "        [-0.1974,  0.1441, -0.3503,  ...,  1.6390, -0.5588,  3.0088],\n",
      "        [-1.3419, -0.4476, -1.3554,  ..., -0.6732,  0.2892,  1.5921]])\n"
     ]
    }
   ],
   "source": [
    "\n",
    "t = torch.randn(303, 13)\n",
    "print(t.size)\n",
    "print(t.shape)\n",
    "print(t)"
   ]
  },
  {
   "cell_type": "code",
   "execution_count": 53,
   "metadata": {},
   "outputs": [
    {
     "name": "stdout",
     "output_type": "stream",
     "text": [
      "torch.Size([303, 100])\n",
      "torch.Size([303, 10])\n",
      "torch.Size([303, 2])\n"
     ]
    }
   ],
   "source": [
    "hmodel = HeartDiseaseNeuralNetworkModel()\n",
    "hm = hmodel(t)\n"
   ]
  },
  {
   "cell_type": "code",
   "execution_count": 54,
   "metadata": {},
   "outputs": [
    {
     "data": {
      "text/plain": [
       "torch.Size([303, 2])"
      ]
     },
     "execution_count": 54,
     "metadata": {},
     "output_type": "execute_result"
    }
   ],
   "source": [
    "hm.shape\n"
   ]
  },
  {
   "cell_type": "code",
   "execution_count": 55,
   "metadata": {},
   "outputs": [
    {
     "data": {
      "text/plain": [
       "'MNIST Problem\\nhttp://yann.lecun.com/exdb/mnist/\\n60000 records with 28x28 images means - 60,000 images with 784\\nInput -> (60000, 784)\\nOutput -> 10 classes -> 0 to 9 digitas'"
      ]
     },
     "execution_count": 55,
     "metadata": {},
     "output_type": "execute_result"
    }
   ],
   "source": [
    "'''MNIST Problem\n",
    "http://yann.lecun.com/exdb/mnist/\n",
    "60000 records with 28x28 images means - 60,000 images with 784\n",
    "Input -> (60000, 784)\n",
    "Output -> 10 classes -> 0 to 9 digitas'''"
   ]
  },
  {
   "cell_type": "code",
   "execution_count": 56,
   "metadata": {},
   "outputs": [],
   "source": [
    "\n",
    "class MnistNeuralNetworkModel(nn.Module):\n",
    "  def __init__(self):\n",
    "    super().__init__()\n",
    "    ## 13 input fields will be used a feature, 100 is the hidden layer\n",
    "    self.linear1 = nn.Linear(784, 1000)\n",
    "    self.linear2 = nn.Linear(1000, 100)\n",
    "    self.linear3 = nn.Linear(100, 10)\n",
    "    self.linear4 = nn.Linear(10, 10) \n",
    "  def forward(self, x):\n",
    "    x = self.linear1(x)\n",
    "    print(x.shape)\n",
    "    x = self.linear2(x)\n",
    "    print(x.shape)\n",
    "    x = self.linear3(x)\n",
    "    print(x.shape)\n",
    "    x = self.linear4(x)\n",
    "    print(x.shape)\n",
    "    return x"
   ]
  },
  {
   "cell_type": "code",
   "execution_count": 57,
   "metadata": {},
   "outputs": [],
   "source": [
    "mnist_model = MnistNeuralNetworkModel()"
   ]
  },
  {
   "cell_type": "code",
   "execution_count": 58,
   "metadata": {},
   "outputs": [
    {
     "name": "stdout",
     "output_type": "stream",
     "text": [
      "<built-in method size of Tensor object at 0x13ef0dad0>\n",
      "torch.Size([60000, 784])\n",
      "tensor([[-0.5436, -1.8260, -0.5773,  ..., -0.3367, -0.1136, -1.3653],\n",
      "        [ 0.6630, -0.3881,  0.7581,  ...,  0.0645, -1.5255, -0.1670],\n",
      "        [-1.1949,  0.1650, -1.0375,  ..., -0.6507,  2.6870,  0.7252],\n",
      "        ...,\n",
      "        [-1.0968, -1.3371, -0.1802,  ..., -0.2583,  0.1235, -0.7498],\n",
      "        [-0.9852, -0.6115,  1.5095,  ..., -0.2421,  1.5216, -0.2215],\n",
      "        [ 0.1965, -1.6535, -1.3184,  ..., -1.4713,  1.4643,  0.9340]])\n"
     ]
    }
   ],
   "source": [
    "\n",
    "t = torch.randn(60000, 28*28)\n",
    "print(t.size)\n",
    "print(t.shape)\n",
    "print(t)"
   ]
  },
  {
   "cell_type": "code",
   "execution_count": 59,
   "metadata": {},
   "outputs": [
    {
     "name": "stdout",
     "output_type": "stream",
     "text": [
      "torch.Size([60000, 1000])\n",
      "torch.Size([60000, 100])\n",
      "torch.Size([60000, 10])\n",
      "torch.Size([60000, 10])\n"
     ]
    }
   ],
   "source": [
    "mn = mnist_model(t)\n"
   ]
  },
  {
   "cell_type": "code",
   "execution_count": 60,
   "metadata": {},
   "outputs": [
    {
     "data": {
      "text/plain": [
       "torch.Size([60000, 10])"
      ]
     },
     "execution_count": 60,
     "metadata": {},
     "output_type": "execute_result"
    }
   ],
   "source": [
    "mn.shape\n"
   ]
  },
  {
   "cell_type": "code",
   "execution_count": 61,
   "metadata": {},
   "outputs": [
    {
     "data": {
      "text/plain": [
       "'Using nn.Parameters\\nParameters are Tensor subclasses, that have a very special property when used with Module - when they’re assigned as Module attributes they are automatically added to the list of its parameters, and will appear in parameters() iterator\\n\\nSource:\\n\\nhttps://www.kdnuggets.com/2020/09/most-complete-guide-pytorch-data-scientists.html\\n'"
      ]
     },
     "execution_count": 61,
     "metadata": {},
     "output_type": "execute_result"
    }
   ],
   "source": [
    "'''Using nn.Parameters\n",
    "Parameters are Tensor subclasses, that have a very special property when used with Module - when they’re assigned as Module attributes they are automatically added to the list of its parameters, and will appear in parameters() iterator\n",
    "\n",
    "Source:\n",
    "\n",
    "https://www.kdnuggets.com/2020/09/most-complete-guide-pytorch-data-scientists.html\n",
    "'''"
   ]
  },
  {
   "cell_type": "code",
   "execution_count": 62,
   "metadata": {},
   "outputs": [],
   "source": [
    "#Custom Linear Layer\n",
    "\n",
    "class myCustomLinearLayer(nn.Module):\n",
    "    def __init__(self,in_size,out_size):\n",
    "        super().__init__()\n",
    "        self.weights = nn.Parameter(torch.randn(in_size, out_size))\n",
    "        self.bias = nn.Parameter(torch.zeros(out_size))\n",
    "    def forward(self, x):\n",
    "        print(\" Weights Shape: \", self.weights.shape)\n",
    "        print(\" Bias Shape: \", self.bias.shape)\n",
    "        return x.mm(self.weights) + self.bias"
   ]
  },
  {
   "cell_type": "code",
   "execution_count": 63,
   "metadata": {},
   "outputs": [],
   "source": [
    "#Customer Neural Network\n",
    "\n",
    "class myCustomNeuralNet(nn.Module):\n",
    "    def __init__(self):\n",
    "        super().__init__()\n",
    "        # Define all Layers Here\n",
    "        self.lin1 = myCustomLinearLayer(784,10)\n",
    "        \n",
    "    def forward(self, x):\n",
    "        # Connect the layer Outputs here to define the forward pass\n",
    "        x = self.lin1(x)\n",
    "        print(x.shape)\n",
    "        return x"
   ]
  },
  {
   "cell_type": "code",
   "execution_count": 64,
   "metadata": {},
   "outputs": [],
   "source": [
    "# ----- Input records and dimensions        \n",
    "# 100 records of dimensions 784\n",
    "x = torch.randn((100,784))"
   ]
  },
  {
   "cell_type": "code",
   "execution_count": 65,
   "metadata": {},
   "outputs": [],
   "source": [
    "model = myCustomNeuralNet()\n"
   ]
  },
  {
   "cell_type": "code",
   "execution_count": 66,
   "metadata": {},
   "outputs": [
    {
     "data": {
      "text/plain": [
       "myCustomNeuralNet(\n",
       "  (lin1): myCustomLinearLayer()\n",
       ")"
      ]
     },
     "execution_count": 66,
     "metadata": {},
     "output_type": "execute_result"
    }
   ],
   "source": [
    "model"
   ]
  },
  {
   "cell_type": "code",
   "execution_count": 67,
   "metadata": {},
   "outputs": [
    {
     "name": "stdout",
     "output_type": "stream",
     "text": [
      " Weights Shape:  torch.Size([784, 10])\n",
      " Bias Shape:  torch.Size([10])\n",
      "torch.Size([100, 10])\n"
     ]
    }
   ],
   "source": [
    "mm = model(x)\n"
   ]
  },
  {
   "cell_type": "code",
   "execution_count": 68,
   "metadata": {},
   "outputs": [
    {
     "data": {
      "text/plain": [
       "torch.Size([100, 10])"
      ]
     },
     "execution_count": 68,
     "metadata": {},
     "output_type": "execute_result"
    }
   ],
   "source": [
    "mm.size()\n"
   ]
  },
  {
   "cell_type": "code",
   "execution_count": 69,
   "metadata": {},
   "outputs": [
    {
     "data": {
      "text/plain": [
       "torch.Size([100, 10])"
      ]
     },
     "execution_count": 69,
     "metadata": {},
     "output_type": "execute_result"
    }
   ],
   "source": [
    "mm.shape\n"
   ]
  },
  {
   "cell_type": "code",
   "execution_count": 70,
   "metadata": {},
   "outputs": [
    {
     "data": {
      "text/plain": [
       "'Homework: Understanding Datasets and setting as input and output:\\nTitanic\\nhttps://www.kaggle.com/c/titanic\\nInput - 12 columns including survived (output) columns\\nOutput - Survived/Not Survived -> T/F || 1/0\\n891 records\\nSupermarket\\nLoan Dataset'"
      ]
     },
     "execution_count": 70,
     "metadata": {},
     "output_type": "execute_result"
    }
   ],
   "source": [
    "'''Homework: Understanding Datasets and setting as input and output:\n",
    "Titanic\n",
    "https://www.kaggle.com/c/titanic\n",
    "Input - 12 columns including survived (output) columns\n",
    "Output - Survived/Not Survived -> T/F || 1/0\n",
    "891 records\n",
    "Supermarket\n",
    "Loan Dataset'''"
   ]
  },
  {
   "attachments": {},
   "cell_type": "markdown",
   "metadata": {},
   "source": [
    "#### What is next?\n",
    "'''How the data is loaded into a network?\n",
    "\n",
    "\n",
    "How transectional data is processed with PyTorch\n",
    "\n",
    "How the image data is processed with PyTorch\n",
    "\n",
    "Supported Neural Network Architecture with PyTorch:\n",
    "- nn.Linear\n",
    "- nn.Conv2d\n",
    "- nn.MaxPool2d\n",
    "- nn.ReLU\n",
    "- nn.BatchNorm2d\n",
    "- nn.Dropout\n",
    "- nn.Embedding\n",
    "- nn.GRU/nn.LSTM\n",
    "- nn.Softmax\n",
    "- nn.LogSoftmax\n",
    "- nn.MultiheadAttention\n",
    "- nn.TransformerEncoder\n",
    "- nn.TransformerDecoder'''"
   ]
  },
  {
   "cell_type": "markdown",
   "metadata": {},
   "source": []
  }
 ],
 "metadata": {
  "kernelspec": {
   "display_name": "gnnnlp2",
   "language": "python",
   "name": "python3"
  },
  "language_info": {
   "codemirror_mode": {
    "name": "ipython",
    "version": 3
   },
   "file_extension": ".py",
   "mimetype": "text/x-python",
   "name": "python",
   "nbconvert_exporter": "python",
   "pygments_lexer": "ipython3",
   "version": "3.10.0 (default, Mar  3 2022, 03:54:28) [Clang 12.0.0 ]"
  },
  "orig_nbformat": 4,
  "vscode": {
   "interpreter": {
    "hash": "e573f29481d22afb08e3f55b5ba2ad77bed788d4bc26e23a3513340311b41c1d"
   }
  }
 },
 "nbformat": 4,
 "nbformat_minor": 2
}
