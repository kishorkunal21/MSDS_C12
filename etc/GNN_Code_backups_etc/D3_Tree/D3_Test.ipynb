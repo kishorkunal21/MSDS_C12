{
 "cells": [
  {
   "cell_type": "code",
   "execution_count": 1,
   "metadata": {},
   "outputs": [
    {
     "data": {
      "text/html": [
       "<script src=\"http://d3js.org/d3.v3.min.js\" charset=\"utf-8\"></script>"
      ],
      "text/plain": [
       "<IPython.core.display.HTML object>"
      ]
     },
     "execution_count": 1,
     "metadata": {},
     "output_type": "execute_result"
    }
   ],
   "source": [
    "from IPython.display import display, HTML\n",
    "\n",
    "HTML('<script src=\"http://d3js.org/d3.v3.min.js\" charset=\"utf-8\"></script>')"
   ]
  },
  {
   "cell_type": "code",
   "execution_count": 2,
   "metadata": {},
   "outputs": [
    {
     "name": "stderr",
     "output_type": "stream",
     "text": [
      "[d3graph] INFO> Set directed=True to see the markers!\n",
      "[d3graph] INFO> Keep only edges with weight>0\n",
      "[d3graph] INFO> Number of unique nodes: 7\n",
      "[d3graph] INFO> Slider range is set to [0, 6]\n",
      "[d3graph] INFO> Write to path: [/var/folders/_p/84b9pkm51s74vx6gr3q75qlm0000gn/T/tmpixjz4znh/d3graph.html]\n",
      "[d3graph] INFO> File already exists and will be overwritten: [/var/folders/_p/84b9pkm51s74vx6gr3q75qlm0000gn/T/tmpixjz4znh/d3graph.html]\n"
     ]
    }
   ],
   "source": [
    "# Import library\n",
    "from d3graph import d3graph, vec2adjmat\n",
    "\n",
    "# Set source and target nodes\n",
    "source = ['node A','node F','node B','node B','node B','node A','node C','node Z']\n",
    "target = ['node F','node B','node J','node F','node F','node M','node M','node A']\n",
    "weight = [5.56, 0.5, 0.64, 0.23, 0.9, 3.28, 0.5, 0.45]\n",
    "\n",
    "# Create adjacency matrix\n",
    "adjmat = vec2adjmat(source, target, weight=weight)\n",
    "\n",
    "# target  node A  node B  node F  node J  node M  node C  node Z\n",
    "# source                                                        \n",
    "# node A    0.00     0.0    5.56    0.00    3.28     0.0     0.0\n",
    "# node B    0.00     0.0    1.13    0.64    0.00     0.0     0.0\n",
    "# node F    0.00     0.5    0.00    0.00    0.00     0.0     0.0\n",
    "# node J    0.00     0.0    0.00    0.00    0.00     0.0     0.0\n",
    "# node M    0.00     0.0    0.00    0.00    0.00     0.0     0.0\n",
    "# node C    0.00     0.0    0.00    0.00    0.50     0.0     0.0\n",
    "# node Z    0.45     0.0    0.00    0.00    0.00     0.0     0.0\n",
    "\n",
    "# Initialize\n",
    "d3 = d3graph()\n",
    "\n",
    "# Build force-directed graph with default settings\n",
    "d3.graph(adjmat)\n",
    "d3.show()"
   ]
  },
  {
   "cell_type": "code",
   "execution_count": null,
   "metadata": {},
   "outputs": [],
   "source": [
    "# Import library\n",
    "from d3graph import d3graph\n",
    "\n",
    "# Initialize\n",
    "d3 = d3graph()\n",
    "size = [10,20,10,10,15,10,5]\n",
    "\n",
    "# Example A: simple interactive network\n",
    "d3.graph(adjmat)\n",
    "d3.show()\n",
    "\n",
    "# Example B: Color nodes\n",
    "d3.set_node_properties(color=adjmat.columns.values, size=size)\n",
    "d3.show()\n",
    "\n",
    "# Example C: include node size\n",
    "size = [10,20,10,10,15,10,5]\n",
    "d3.set_node_properties(color=adjmat.columns.values, size=size)\n",
    "d3.show()\n",
    "\n",
    "# Example D: include node-edge-size\n",
    "d3.set_node_properties(color=adjmat.columns.values, size=size, edge_size=size[::-1], cmap='Set2')\n",
    "d3.show()\n",
    "\n",
    "# Example E: include node-edge color\n",
    "d3.set_node_properties(color=adjmat.columns.values, size=size, edge_size=size[::-1], edge_color='#000000')\n",
    "d3.show()\n",
    "\n",
    "# Example F: Change colormap\n",
    "d3.set_node_properties(color=adjmat.columns.values, size=size, edge_size=size[::-1], edge_color='#00FFFF', cmap='Set2')\n",
    "d3.show()\n",
    "\n",
    "# Example G: Include directed links. Arrows are set from source -> target\n",
    "d3.set_edge_properties(directed=True)\n",
    "d3.set_node_properties(color=adjmat.columns.values, size=size, edge_size=size, edge_color='#000FFF', cmap='Set1')\n",
    "d3.show()"
   ]
  },
  {
   "cell_type": "code",
   "execution_count": null,
   "metadata": {},
   "outputs": [],
   "source": [
    "from d3graph import d3graph\n",
    "\n",
    "# Initialize\n",
    "d3 = d3graph()\n",
    "# Load karate example\n",
    "adjmat, df = d3.import_example('karate')\n",
    "\n",
    "label = df['label'].values\n",
    "node_size = df['degree'].values\n",
    "\n",
    "d3.graph(adjmat)\n",
    "d3.set_node_properties(color=df['label'].values)\n",
    "d3.show()\n",
    "\n",
    "d3.set_node_properties(label=label, color=label, cmap='Set1')\n",
    "d3.show()\n",
    "\n",
    "d3.set_node_properties(size=node_size)\n",
    "d3.show()\n",
    "\n",
    "d3.set_node_properties(color=label, size=node_size)\n",
    "d3.show()\n",
    "\n",
    "d3.set_edge_properties(edge_distance=100)\n",
    "d3.set_node_properties(color=node_size, size=node_size)\n",
    "d3.show()\n",
    "\n",
    "d3 = d3graph(charge=1000)\n",
    "d3.graph(adjmat)\n",
    "d3.set_node_properties(color=node_size, size=node_size)\n",
    "d3.show()\n",
    "\n",
    "d3 = d3graph(collision=1, charge=250)\n",
    "d3.graph(adjmat)\n",
    "d3.set_node_properties(color=label, size=node_size, edge_size=node_size, cmap='Set1')\n",
    "d3.show()\n",
    "\n",
    "d3 = d3graph(collision=1, charge=250)\n",
    "d3.graph(adjmat)\n",
    "d3.set_node_properties(color=label, size=node_size, edge_size=node_size, edge_color='#00FFFF', cmap='Set1')\n",
    "d3.show()"
   ]
  },
  {
   "cell_type": "code",
   "execution_count": 6,
   "metadata": {},
   "outputs": [],
   "source": [
    "from IPython.display import display, HTML\n",
    "\n",
    "HTML('<script src=\"http://d3js.org/d3.v3.min.js\" charset=\"utf-8\"></script>')\n",
    "from d3graph import d3graph"
   ]
  },
  {
   "cell_type": "code",
   "execution_count": 7,
   "metadata": {},
   "outputs": [
    {
     "name": "stderr",
     "output_type": "stream",
     "text": [
      "[d3graph] INFO> Set directed=True to see the markers!\n",
      "[d3graph] INFO> Keep only edges with weight>0\n",
      "[d3graph] INFO> Number of unique nodes: 7\n",
      "[d3graph] INFO> Slider range is set to [1, 5]\n",
      "[d3graph] INFO> Write to path: [/Users/kunal21/Kunal/Work/Data_Science/Upgrad/002_LJMU/05_Final_GNN_Thesis/GNN_Code/DGL_Docs/DGL_Docs/D33333.html]\n",
      "[d3graph] INFO> File already exists and will be overwritten: [/Users/kunal21/Kunal/Work/Data_Science/Upgrad/002_LJMU/05_Final_GNN_Thesis/GNN_Code/DGL_Docs/DGL_Docs/D33333.html]\n"
     ]
    }
   ],
   "source": [
    "\n",
    "size = [10, 20, 10, 10, 15, 10, 5]\n",
    "\n",
    "# Initialize\n",
    "d3 = d3graph()\n",
    "#d3.set_path()\n",
    "# Load example\n",
    "adjmat, _ = d3.import_example('bigbang')\n",
    "# Process adjmat\n",
    "d3.graph(adjmat)\n",
    "# Show\n",
    "d3.show(filepath='DGL_Docs/D33333.html')"
   ]
  },
  {
   "cell_type": "markdown",
   "metadata": {},
   "source": [
    "### Tidy tree"
   ]
  },
  {
   "cell_type": "code",
   "execution_count": 3,
   "metadata": {},
   "outputs": [],
   "source": [
    "from d3blocks import d3blocks"
   ]
  },
  {
   "cell_type": "code",
   "execution_count": 4,
   "metadata": {},
   "outputs": [
    {
     "ename": "TypeError",
     "evalue": "'module' object is not callable",
     "output_type": "error",
     "traceback": [
      "\u001b[0;31m---------------------------------------------------------------------------\u001b[0m",
      "\u001b[0;31mTypeError\u001b[0m                                 Traceback (most recent call last)",
      "Cell \u001b[0;32mIn[4], line 1\u001b[0m\n\u001b[0;32m----> 1\u001b[0m d3 \u001b[39m=\u001b[39m d3blocks()\n",
      "\u001b[0;31mTypeError\u001b[0m: 'module' object is not callable"
     ]
    }
   ],
   "source": [
    "d3 = d3blocks()"
   ]
  },
  {
   "cell_type": "code",
   "execution_count": null,
   "metadata": {},
   "outputs": [],
   "source": []
  }
 ],
 "metadata": {
  "kernelspec": {
   "display_name": "gnnnlp3",
   "language": "python",
   "name": "python3"
  },
  "language_info": {
   "codemirror_mode": {
    "name": "ipython",
    "version": 3
   },
   "file_extension": ".py",
   "mimetype": "text/x-python",
   "name": "python",
   "nbconvert_exporter": "python",
   "pygments_lexer": "ipython3",
   "version": "3.10.0"
  },
  "orig_nbformat": 4,
  "vscode": {
   "interpreter": {
    "hash": "7b64e9a756ef8f5a7311485c384a78b1a43d4627136141eecfc0b1ab29f2ae70"
   }
  }
 },
 "nbformat": 4,
 "nbformat_minor": 2
}
